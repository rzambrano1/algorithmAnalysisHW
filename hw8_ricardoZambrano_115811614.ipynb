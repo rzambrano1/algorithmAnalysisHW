{
 "cells": [
  {
   "cell_type": "markdown",
   "id": "27869e77",
   "metadata": {},
   "source": [
    "**(1)** Implement a min Heap class with a set of standard operations such as\n",
    "    isEmpty, insert, remove, swapUp, swapDown, and change."
   ]
  },
  {
   "cell_type": "code",
   "execution_count": 9,
   "id": "bc0d0a78",
   "metadata": {},
   "outputs": [],
   "source": [
    "class HeapNode:\n",
    "    \"\"\"Implements a heap node\"\"\"\n",
    "    \n",
    "    def __init__(self, value):\n",
    "        self.value = value\n",
    "\n",
    "    def getValue(self):\n",
    "        return self.value\n",
    "    \n",
    "    def setValue(self,val):\n",
    "        self.value = val\n",
    "    \n",
    "    def __repr__(self):\n",
    "        return f'<{self.value}>'\n",
    "    \n",
    "    def __str__(self):\n",
    "        return f'<{self.value}>'"
   ]
  },
  {
   "cell_type": "code",
   "execution_count": 178,
   "id": "37f5dbd2",
   "metadata": {},
   "outputs": [],
   "source": [
    "class Heap:\n",
    "    \"\"\"Implements a heap\"\"\"\n",
    "    \n",
    "    def __init__(self, capacity) :\n",
    "        self.capacity = capacity\n",
    "        self.currSize = 0\n",
    "        self.heap = [HeapNode(None) for i in range(self.capacity)]\n",
    "        \n",
    "    def __repr__(self):\n",
    "        return f'Heap[{self.heap}]\\nCapacity = {self.capacity}\\nCurrent Size = {self.currSize}'\n",
    "\n",
    "    def __str__(self):\n",
    "        return f'Heap[{self.heap}]'\n",
    "    \n",
    "    def __getitem__(self,key): # A simple __getitem__ method to make the object subscriptable. \n",
    "                               # Required for swap methods taught in class\n",
    "        return self.heap[key]\n",
    "    \n",
    "    def __len__(self):\n",
    "        \"\"\"Returns the numbers of items in the heap\"\"\"\n",
    "        return len(self.heap)\n",
    "    \n",
    "    def isEmpty(self):\n",
    "        \"\"\"Returns True if the heap is empty, False otherwise\"\"\"\n",
    "        if self.currSize == 0:\n",
    "            return True\n",
    "        return False\n",
    "    \n",
    "    def swapUp(self,index) :\n",
    "        parent = (index-1)//2        # find the parent’s index\n",
    "        bottom = self.heap[index]\n",
    "        while (index > 0) and (self.heap[parent].getValue() > bottom.getValue()): # originally <\n",
    "            self.heap[index] = self.heap[parent]\n",
    "            index = parent\n",
    "            parent = (parent-1)//2\n",
    "\n",
    "        self.heap[index] = bottom\n",
    "\n",
    "    def swapDown(self,index):\n",
    "        top = self.heap[index]\n",
    "        while (index < self.currSize//2):\n",
    "            leftChild = 2*index + 1\n",
    "            rightChild = leftChild + 1\n",
    "\n",
    "            if (rightChild < self.currSize) and (self.heap[leftChild].getValue() > self.heap[rightChild].getValue()): # < origin\n",
    "                smallestChild = rightChild\n",
    "            else:\n",
    "                smallestChild = leftChild\n",
    "                \n",
    "            if (top.getValue() <= self.heap[smallestChild].getValue()): # originally >=\n",
    "                break\n",
    "                \n",
    "            self.heap[index] = self.heap[smallestChild]\n",
    "            index = smallestChild\n",
    "            \n",
    "        self.heap[index] = top\n",
    "\n",
    "    def insert(self,value):\n",
    "        if (self.currSize == self.capacity):\n",
    "            print(\"The Heap is full\")\n",
    "            return False\n",
    "        node = HeapNode(value)\n",
    "        self.heap[self.currSize] = node\n",
    "        self.currSize += 1\n",
    "        self.swapUp(self.currSize-1)\n",
    "        return True\n",
    "\n",
    "    def remove(self) :\n",
    "        assert self.isEmpty() == False, \"Cannot remove top. The Heap is Empty\"\n",
    "        root = self.heap[0]\n",
    "        self.currSize -= 1\n",
    "        self.heap[0] = self.heap[self.currSize]\n",
    "        self.heap[self.currSize] = None\n",
    "        self.swapDown(0)\n",
    "        return root\n"
   ]
  },
  {
   "cell_type": "code",
   "execution_count": 179,
   "id": "fc189a4f",
   "metadata": {},
   "outputs": [
    {
     "name": "stdout",
     "output_type": "stream",
     "text": [
      "<2>\n"
     ]
    },
    {
     "data": {
      "text/plain": [
       "<2>"
      ]
     },
     "execution_count": 179,
     "metadata": {},
     "output_type": "execute_result"
    }
   ],
   "source": [
    "a = HeapNode(2)\n",
    "print(a)\n",
    "a"
   ]
  },
  {
   "cell_type": "code",
   "execution_count": 180,
   "id": "e34a99b5",
   "metadata": {},
   "outputs": [
    {
     "data": {
      "text/plain": [
       "Heap[[<None>, <None>, <None>, <None>, <None>, <None>, <None>]]\n",
       "Capacity = 7\n",
       "Current Size = 0"
      ]
     },
     "execution_count": 180,
     "metadata": {},
     "output_type": "execute_result"
    }
   ],
   "source": [
    "b = Heap(7)\n",
    "b"
   ]
  },
  {
   "cell_type": "code",
   "execution_count": 181,
   "id": "45b7f301",
   "metadata": {},
   "outputs": [
    {
     "data": {
      "text/plain": [
       "True"
      ]
     },
     "execution_count": 181,
     "metadata": {},
     "output_type": "execute_result"
    }
   ],
   "source": [
    "b.isEmpty()"
   ]
  },
  {
   "cell_type": "code",
   "execution_count": 182,
   "id": "d2af348a",
   "metadata": {},
   "outputs": [
    {
     "data": {
      "text/plain": [
       "Heap[[<3>, <None>, <None>, <None>, <None>, <None>, <None>]]\n",
       "Capacity = 7\n",
       "Current Size = 1"
      ]
     },
     "execution_count": 182,
     "metadata": {},
     "output_type": "execute_result"
    }
   ],
   "source": [
    "b.insert(3)\n",
    "b"
   ]
  },
  {
   "cell_type": "code",
   "execution_count": 183,
   "id": "af3c1176",
   "metadata": {},
   "outputs": [
    {
     "data": {
      "text/plain": [
       "Heap[[<3>, <22>, <4>, <25>, <23>, <24>, <13>]]\n",
       "Capacity = 7\n",
       "Current Size = 7"
      ]
     },
     "execution_count": 183,
     "metadata": {},
     "output_type": "execute_result"
    }
   ],
   "source": [
    "b.insert(25)\n",
    "b.insert(24)\n",
    "b.insert(23)\n",
    "b.insert(22)\n",
    "b.insert(4)\n",
    "b.insert(13)\n",
    "b"
   ]
  },
  {
   "cell_type": "code",
   "execution_count": 184,
   "id": "9ade7d84",
   "metadata": {},
   "outputs": [
    {
     "name": "stdout",
     "output_type": "stream",
     "text": [
      "The Heap is full\n"
     ]
    },
    {
     "data": {
      "text/plain": [
       "False"
      ]
     },
     "execution_count": 184,
     "metadata": {},
     "output_type": "execute_result"
    }
   ],
   "source": [
    "b.insert(16)"
   ]
  },
  {
   "cell_type": "code",
   "execution_count": 185,
   "id": "cd96bead",
   "metadata": {},
   "outputs": [
    {
     "name": "stdout",
     "output_type": "stream",
     "text": [
      "<3>\n"
     ]
    },
    {
     "data": {
      "text/plain": [
       "Heap[[<4>, <22>, <13>, <25>, <23>, <24>, None]]\n",
       "Capacity = 7\n",
       "Current Size = 6"
      ]
     },
     "execution_count": 185,
     "metadata": {},
     "output_type": "execute_result"
    }
   ],
   "source": [
    "rem = b.remove()\n",
    "print(rem)\n",
    "b"
   ]
  },
  {
   "cell_type": "code",
   "execution_count": 186,
   "id": "32d35f18",
   "metadata": {},
   "outputs": [
    {
     "name": "stdout",
     "output_type": "stream",
     "text": [
      "<4>\n"
     ]
    },
    {
     "data": {
      "text/plain": [
       "Heap[[<13>, <22>, <24>, <25>, <23>, None, None]]\n",
       "Capacity = 7\n",
       "Current Size = 5"
      ]
     },
     "execution_count": 186,
     "metadata": {},
     "output_type": "execute_result"
    }
   ],
   "source": [
    "rem = b.remove()\n",
    "print(rem)\n",
    "b"
   ]
  },
  {
   "cell_type": "code",
   "execution_count": 187,
   "id": "1c747a6c",
   "metadata": {},
   "outputs": [
    {
     "name": "stdout",
     "output_type": "stream",
     "text": [
      "<13>\n"
     ]
    },
    {
     "data": {
      "text/plain": [
       "Heap[[<22>, <23>, <24>, <25>, None, None, None]]\n",
       "Capacity = 7\n",
       "Current Size = 4"
      ]
     },
     "execution_count": 187,
     "metadata": {},
     "output_type": "execute_result"
    }
   ],
   "source": [
    "rem = b.remove()\n",
    "print(rem)\n",
    "b"
   ]
  },
  {
   "cell_type": "code",
   "execution_count": 188,
   "id": "3f8358fc",
   "metadata": {},
   "outputs": [
    {
     "name": "stdout",
     "output_type": "stream",
     "text": [
      "<22>\n"
     ]
    },
    {
     "data": {
      "text/plain": [
       "Heap[[<23>, <25>, <24>, None, None, None, None]]\n",
       "Capacity = 7\n",
       "Current Size = 3"
      ]
     },
     "execution_count": 188,
     "metadata": {},
     "output_type": "execute_result"
    }
   ],
   "source": [
    "rem = b.remove()\n",
    "print(rem)\n",
    "b"
   ]
  },
  {
   "cell_type": "code",
   "execution_count": 189,
   "id": "26a7c9b5",
   "metadata": {},
   "outputs": [
    {
     "name": "stdout",
     "output_type": "stream",
     "text": [
      "<23>\n"
     ]
    },
    {
     "data": {
      "text/plain": [
       "Heap[[<24>, <25>, None, None, None, None, None]]\n",
       "Capacity = 7\n",
       "Current Size = 2"
      ]
     },
     "execution_count": 189,
     "metadata": {},
     "output_type": "execute_result"
    }
   ],
   "source": [
    "rem = b.remove()\n",
    "print(rem)\n",
    "b"
   ]
  },
  {
   "cell_type": "code",
   "execution_count": 190,
   "id": "e07ac124",
   "metadata": {},
   "outputs": [
    {
     "name": "stdout",
     "output_type": "stream",
     "text": [
      "<24>\n"
     ]
    },
    {
     "data": {
      "text/plain": [
       "Heap[[<25>, None, None, None, None, None, None]]\n",
       "Capacity = 7\n",
       "Current Size = 1"
      ]
     },
     "execution_count": 190,
     "metadata": {},
     "output_type": "execute_result"
    }
   ],
   "source": [
    "rem = b.remove()\n",
    "print(rem)\n",
    "b"
   ]
  },
  {
   "cell_type": "code",
   "execution_count": 191,
   "id": "b17d4017",
   "metadata": {},
   "outputs": [
    {
     "name": "stdout",
     "output_type": "stream",
     "text": [
      "<25>\n"
     ]
    },
    {
     "data": {
      "text/plain": [
       "Heap[[None, None, None, None, None, None, None]]\n",
       "Capacity = 7\n",
       "Current Size = 0"
      ]
     },
     "execution_count": 191,
     "metadata": {},
     "output_type": "execute_result"
    }
   ],
   "source": [
    "rem = b.remove()\n",
    "print(rem)\n",
    "b"
   ]
  },
  {
   "cell_type": "code",
   "execution_count": 193,
   "id": "c67ce79c",
   "metadata": {},
   "outputs": [
    {
     "name": "stdout",
     "output_type": "stream",
     "text": [
      "Testing Assertion\n"
     ]
    },
    {
     "ename": "AssertionError",
     "evalue": "Cannot remove top. The Heap is Empty",
     "output_type": "error",
     "traceback": [
      "\u001b[1;31m---------------------------------------------------------------------------\u001b[0m",
      "\u001b[1;31mAssertionError\u001b[0m                            Traceback (most recent call last)",
      "Cell \u001b[1;32mIn[193], line 2\u001b[0m\n\u001b[0;32m      1\u001b[0m \u001b[38;5;28mprint\u001b[39m(\u001b[38;5;124m\"\u001b[39m\u001b[38;5;124mTesting Assertion\u001b[39m\u001b[38;5;124m\"\u001b[39m)\n\u001b[1;32m----> 2\u001b[0m rem \u001b[38;5;241m=\u001b[39m \u001b[43mb\u001b[49m\u001b[38;5;241;43m.\u001b[39;49m\u001b[43mremove\u001b[49m\u001b[43m(\u001b[49m\u001b[43m)\u001b[49m\n\u001b[0;32m      3\u001b[0m \u001b[38;5;28mprint\u001b[39m(rem)\n\u001b[0;32m      4\u001b[0m b\n",
      "Cell \u001b[1;32mIn[178], line 69\u001b[0m, in \u001b[0;36mHeap.remove\u001b[1;34m(self)\u001b[0m\n\u001b[0;32m     68\u001b[0m \u001b[38;5;28;01mdef\u001b[39;00m \u001b[38;5;21mremove\u001b[39m(\u001b[38;5;28mself\u001b[39m) :\n\u001b[1;32m---> 69\u001b[0m     \u001b[38;5;28;01massert\u001b[39;00m \u001b[38;5;28mself\u001b[39m\u001b[38;5;241m.\u001b[39misEmpty() \u001b[38;5;241m==\u001b[39m \u001b[38;5;28;01mFalse\u001b[39;00m, \u001b[38;5;124m\"\u001b[39m\u001b[38;5;124mCannot remove top. The Heap is Empty\u001b[39m\u001b[38;5;124m\"\u001b[39m\n\u001b[0;32m     70\u001b[0m     root \u001b[38;5;241m=\u001b[39m \u001b[38;5;28mself\u001b[39m\u001b[38;5;241m.\u001b[39mheap[\u001b[38;5;241m0\u001b[39m]\n\u001b[0;32m     71\u001b[0m     \u001b[38;5;28mself\u001b[39m\u001b[38;5;241m.\u001b[39mcurrSize \u001b[38;5;241m-\u001b[39m\u001b[38;5;241m=\u001b[39m \u001b[38;5;241m1\u001b[39m\n",
      "\u001b[1;31mAssertionError\u001b[0m: Cannot remove top. The Heap is Empty"
     ]
    }
   ],
   "source": [
    "print(\"Testing Assertion\")\n",
    "rem = b.remove()\n",
    "print(rem)\n",
    "b"
   ]
  },
  {
   "cell_type": "code",
   "execution_count": 194,
   "id": "6d6d16aa",
   "metadata": {},
   "outputs": [
    {
     "data": {
      "text/plain": [
       "Heap[[<1>, <5>, <2>, <30>, <21>, <25>, <7>]]\n",
       "Capacity = 7\n",
       "Current Size = 7"
      ]
     },
     "execution_count": 194,
     "metadata": {},
     "output_type": "execute_result"
    }
   ],
   "source": [
    "c = Heap(7)\n",
    "\n",
    "c.insert(30)\n",
    "c.insert(2)\n",
    "c.insert(25)\n",
    "c.insert(5)\n",
    "c.insert(21)\n",
    "c.insert(7)\n",
    "c.insert(1)\n",
    "\n",
    "c"
   ]
  },
  {
   "cell_type": "code",
   "execution_count": 195,
   "id": "3fa072eb",
   "metadata": {},
   "outputs": [
    {
     "data": {
      "text/plain": [
       "False"
      ]
     },
     "execution_count": 195,
     "metadata": {},
     "output_type": "execute_result"
    }
   ],
   "source": [
    "c.isEmpty()"
   ]
  },
  {
   "cell_type": "markdown",
   "id": "99f15949",
   "metadata": {},
   "source": [
    "**(2)** Given a directed graph, implement a method that checks if there\n",
    "    exists a path between two nodes."
   ]
  },
  {
   "cell_type": "markdown",
   "id": "7c94b084",
   "metadata": {},
   "source": [
    "**[Ric wrote]:** The first step is to implement a directed graph "
   ]
  },
  {
   "cell_type": "code",
   "execution_count": 277,
   "id": "a0dfe844",
   "metadata": {},
   "outputs": [],
   "source": [
    "class Node:\n",
    "    \n",
    "    def __init__(self,name:str):\n",
    "        self.name = str(name)\n",
    "    def getName(self):\n",
    "        return self.name\n",
    "    def __str__(self):\n",
    "        return self.name\n",
    "    def __repr__(self):\n",
    "        return f'<{self.name}>'\n",
    "    \n",
    "class Edge:\n",
    "    \n",
    "    def __init__(self,source:Node,destination:Node):\n",
    "        self.source = source\n",
    "        self.destination = destination\n",
    "    def getSource(self):\n",
    "        return self.source\n",
    "    def getDestination(self):\n",
    "        return self.destination\n",
    "    def __str__(self):\n",
    "        return f'<{self.source.getName()}> --> <{self.destination.getName()}>'\n",
    "    def __repr__(self):\n",
    "        return f'<{self.source.getName()}> --> <{self.destination.getName()}>'"
   ]
  },
  {
   "cell_type": "code",
   "execution_count": 293,
   "id": "4d516167",
   "metadata": {},
   "outputs": [],
   "source": [
    "class Digraph:\n",
    "    \n",
    "    def __init__(self):\n",
    "        self.nodes = []\n",
    "        self.edges = {}\n",
    "    \n",
    "    def addNode(self,node):\n",
    "        if node in self.nodes:\n",
    "            raise ValueError('Duplicate node')\n",
    "        else:\n",
    "            self.nodes.append(node)\n",
    "            self.edges[node] = []\n",
    "    \n",
    "    def addEdge(self,edge):\n",
    "        src = edge.getSource()\n",
    "        dest = edge.getDestination()\n",
    "        if not (src in self.nodes and dest in self.nodes):\n",
    "            raise ValueError('Node not in graph')\n",
    "        self.edges[src].append(dest)\n",
    "        \n",
    "    def childrenOf(self,node):\n",
    "        return self.edges[node]\n",
    "    \n",
    "    def hasNode(self,node):\n",
    "        return node in self.nodes\n",
    "    \n",
    "    def __str__(self):\n",
    "        result = ''\n",
    "        for src in self.nodes:\n",
    "            for dest in self.edges[src]:\n",
    "                result = result + src.getName() + ' --> ' + dest.getName() + '\\n'\n",
    "        if result == '':\n",
    "            return '<Empty>'\n",
    "        return result[:-1]\n",
    "    \n",
    "    def __repr__(self):\n",
    "        result = ''\n",
    "        for src in self.nodes:\n",
    "            for dest in self.edges[src]:\n",
    "                result = result + src.getName() + ' --> ' + dest.getName() + '\\n'\n",
    "        if result == '':\n",
    "            return '<Empty>'\n",
    "        return result[:-1]"
   ]
  },
  {
   "cell_type": "markdown",
   "id": "78f20354",
   "metadata": {},
   "source": [
    "**[Ric wrote]:** Now I will create some nodes"
   ]
  },
  {
   "cell_type": "code",
   "execution_count": 294,
   "id": "96e47c29",
   "metadata": {},
   "outputs": [],
   "source": [
    "a = Node('a')\n",
    "b = Node('b')\n",
    "c = Node('c')\n",
    "d = Node('d')\n",
    "e = Node('e')\n",
    "f = Node('f')\n",
    "g = Node('g')\n",
    "h = Node('h')\n",
    "i = Node('i')"
   ]
  },
  {
   "cell_type": "code",
   "execution_count": 295,
   "id": "ddf6bab7",
   "metadata": {},
   "outputs": [
    {
     "data": {
      "text/plain": [
       "<a>"
      ]
     },
     "execution_count": 295,
     "metadata": {},
     "output_type": "execute_result"
    }
   ],
   "source": [
    "a"
   ]
  },
  {
   "cell_type": "code",
   "execution_count": 296,
   "id": "c446b941",
   "metadata": {},
   "outputs": [],
   "source": [
    "nodeList = [a,b,c,d,e,f,g,h,i]"
   ]
  },
  {
   "cell_type": "markdown",
   "id": "f416fdbd",
   "metadata": {},
   "source": [
    "**[Ric wrote]:** Now I will create some edges"
   ]
  },
  {
   "cell_type": "code",
   "execution_count": 297,
   "id": "c3fdca0b",
   "metadata": {},
   "outputs": [],
   "source": [
    "ab = Edge(a,b)\n",
    "af = Edge(a,f)\n",
    "ad = Edge(a,d)\n",
    "bc = Edge(b,c)\n",
    "be = Edge(b,e)\n",
    "cd = Edge(c,d)\n",
    "da = Edge(d,a)\n",
    "db = Edge(d,b)\n",
    "ed = Edge(e,d)\n",
    "fe = Edge(f,e)\n",
    "gf = Edge(g,f)\n",
    "# Isolated section of the graph below\n",
    "hi = Edge(h,i)\n",
    "ih = Edge(i,h)"
   ]
  },
  {
   "cell_type": "code",
   "execution_count": 298,
   "id": "bcc953f0",
   "metadata": {},
   "outputs": [
    {
     "data": {
      "text/plain": [
       "<a> --> <b>"
      ]
     },
     "execution_count": 298,
     "metadata": {},
     "output_type": "execute_result"
    }
   ],
   "source": [
    "ab"
   ]
  },
  {
   "cell_type": "code",
   "execution_count": 299,
   "id": "d2086413",
   "metadata": {},
   "outputs": [
    {
     "name": "stdout",
     "output_type": "stream",
     "text": [
      "<a> --> <d>\n",
      "<d> --> <a>\n"
     ]
    }
   ],
   "source": [
    "print(ad)\n",
    "print(da)"
   ]
  },
  {
   "cell_type": "code",
   "execution_count": 300,
   "id": "fa4e76d5",
   "metadata": {},
   "outputs": [],
   "source": [
    "edgesList = [ab,af,ad,bc,be,cd,da,db,ed,fe,gf,hi,ih]"
   ]
  },
  {
   "cell_type": "markdown",
   "id": "71bffef0",
   "metadata": {},
   "source": [
    "**[Ric wrote]:** Now I will create an instance of a directed graph"
   ]
  },
  {
   "cell_type": "code",
   "execution_count": 301,
   "id": "758d5327",
   "metadata": {},
   "outputs": [],
   "source": [
    "myGraph = Digraph()"
   ]
  },
  {
   "cell_type": "code",
   "execution_count": 302,
   "id": "ba5b1c41",
   "metadata": {},
   "outputs": [
    {
     "data": {
      "text/plain": [
       "<Empty>"
      ]
     },
     "execution_count": 302,
     "metadata": {},
     "output_type": "execute_result"
    }
   ],
   "source": [
    "myGraph"
   ]
  },
  {
   "cell_type": "code",
   "execution_count": 303,
   "id": "2a40fd2d",
   "metadata": {},
   "outputs": [
    {
     "ename": "ValueError",
     "evalue": "Node not in graph",
     "output_type": "error",
     "traceback": [
      "\u001b[1;31m---------------------------------------------------------------------------\u001b[0m",
      "\u001b[1;31mValueError\u001b[0m                                Traceback (most recent call last)",
      "Cell \u001b[1;32mIn[303], line 2\u001b[0m\n\u001b[0;32m      1\u001b[0m \u001b[38;5;66;03m# Testing adding an edge with a node that is not in the graph\u001b[39;00m\n\u001b[1;32m----> 2\u001b[0m \u001b[43mmyGraph\u001b[49m\u001b[38;5;241;43m.\u001b[39;49m\u001b[43maddEdge\u001b[49m\u001b[43m(\u001b[49m\u001b[43mab\u001b[49m\u001b[43m)\u001b[49m\n",
      "Cell \u001b[1;32mIn[293], line 18\u001b[0m, in \u001b[0;36mDigraph.addEdge\u001b[1;34m(self, edge)\u001b[0m\n\u001b[0;32m     16\u001b[0m dest \u001b[38;5;241m=\u001b[39m edge\u001b[38;5;241m.\u001b[39mgetDestination()\n\u001b[0;32m     17\u001b[0m \u001b[38;5;28;01mif\u001b[39;00m \u001b[38;5;129;01mnot\u001b[39;00m (src \u001b[38;5;129;01min\u001b[39;00m \u001b[38;5;28mself\u001b[39m\u001b[38;5;241m.\u001b[39mnodes \u001b[38;5;129;01mand\u001b[39;00m dest \u001b[38;5;129;01min\u001b[39;00m \u001b[38;5;28mself\u001b[39m\u001b[38;5;241m.\u001b[39mnodes):\n\u001b[1;32m---> 18\u001b[0m     \u001b[38;5;28;01mraise\u001b[39;00m \u001b[38;5;167;01mValueError\u001b[39;00m(\u001b[38;5;124m'\u001b[39m\u001b[38;5;124mNode not in graph\u001b[39m\u001b[38;5;124m'\u001b[39m)\n\u001b[0;32m     19\u001b[0m \u001b[38;5;28mself\u001b[39m\u001b[38;5;241m.\u001b[39medges[src]\u001b[38;5;241m.\u001b[39mappend(dest)\n",
      "\u001b[1;31mValueError\u001b[0m: Node not in graph"
     ]
    }
   ],
   "source": [
    "# Testing adding an edge with a node that is not in the graph\n",
    "myGraph.addEdge(ab)"
   ]
  },
  {
   "cell_type": "code",
   "execution_count": 304,
   "id": "fefa1a37",
   "metadata": {},
   "outputs": [],
   "source": [
    "# Adding nodes to the graph\n",
    "for node in nodeList:\n",
    "    myGraph.addNode(node)"
   ]
  },
  {
   "cell_type": "code",
   "execution_count": 305,
   "id": "eb313563",
   "metadata": {},
   "outputs": [
    {
     "ename": "ValueError",
     "evalue": "Duplicate node",
     "output_type": "error",
     "traceback": [
      "\u001b[1;31m---------------------------------------------------------------------------\u001b[0m",
      "\u001b[1;31mValueError\u001b[0m                                Traceback (most recent call last)",
      "Cell \u001b[1;32mIn[305], line 2\u001b[0m\n\u001b[0;32m      1\u001b[0m \u001b[38;5;66;03m# Testing error when adding a duplicate node\u001b[39;00m\n\u001b[1;32m----> 2\u001b[0m \u001b[43mmyGraph\u001b[49m\u001b[38;5;241;43m.\u001b[39;49m\u001b[43maddNode\u001b[49m\u001b[43m(\u001b[49m\u001b[43ma\u001b[49m\u001b[43m)\u001b[49m\n",
      "Cell \u001b[1;32mIn[293], line 9\u001b[0m, in \u001b[0;36mDigraph.addNode\u001b[1;34m(self, node)\u001b[0m\n\u001b[0;32m      7\u001b[0m \u001b[38;5;28;01mdef\u001b[39;00m \u001b[38;5;21maddNode\u001b[39m(\u001b[38;5;28mself\u001b[39m,node):\n\u001b[0;32m      8\u001b[0m     \u001b[38;5;28;01mif\u001b[39;00m node \u001b[38;5;129;01min\u001b[39;00m \u001b[38;5;28mself\u001b[39m\u001b[38;5;241m.\u001b[39mnodes:\n\u001b[1;32m----> 9\u001b[0m         \u001b[38;5;28;01mraise\u001b[39;00m \u001b[38;5;167;01mValueError\u001b[39;00m(\u001b[38;5;124m'\u001b[39m\u001b[38;5;124mDuplicate node\u001b[39m\u001b[38;5;124m'\u001b[39m)\n\u001b[0;32m     10\u001b[0m     \u001b[38;5;28;01melse\u001b[39;00m:\n\u001b[0;32m     11\u001b[0m         \u001b[38;5;28mself\u001b[39m\u001b[38;5;241m.\u001b[39mnodes\u001b[38;5;241m.\u001b[39mappend(node)\n",
      "\u001b[1;31mValueError\u001b[0m: Duplicate node"
     ]
    }
   ],
   "source": [
    "# Testing error when adding a duplicate node\n",
    "myGraph.addNode(a)"
   ]
  },
  {
   "cell_type": "code",
   "execution_count": 306,
   "id": "8694cc98",
   "metadata": {},
   "outputs": [],
   "source": [
    "for edge in edgesList:\n",
    "    myGraph.addEdge(edge)"
   ]
  },
  {
   "cell_type": "code",
   "execution_count": 307,
   "id": "8304503f",
   "metadata": {},
   "outputs": [
    {
     "data": {
      "text/plain": [
       "a --> b\n",
       "a --> f\n",
       "a --> d\n",
       "b --> c\n",
       "b --> e\n",
       "c --> d\n",
       "d --> a\n",
       "d --> b\n",
       "e --> d\n",
       "f --> e\n",
       "g --> f\n",
       "h --> i\n",
       "i --> h"
      ]
     },
     "execution_count": 307,
     "metadata": {},
     "output_type": "execute_result"
    }
   ],
   "source": [
    "myGraph"
   ]
  },
  {
   "cell_type": "code",
   "execution_count": 308,
   "id": "0fa1c6e5",
   "metadata": {},
   "outputs": [
    {
     "data": {
      "text/plain": [
       "True"
      ]
     },
     "execution_count": 308,
     "metadata": {},
     "output_type": "execute_result"
    }
   ],
   "source": [
    "myGraph.hasNode(a)"
   ]
  },
  {
   "cell_type": "code",
   "execution_count": 309,
   "id": "c65c7c4d",
   "metadata": {},
   "outputs": [
    {
     "name": "stdout",
     "output_type": "stream",
     "text": [
      "z\n"
     ]
    },
    {
     "data": {
      "text/plain": [
       "False"
      ]
     },
     "execution_count": 309,
     "metadata": {},
     "output_type": "execute_result"
    }
   ],
   "source": [
    "# Testing hasNode() with a node that does not exists\n",
    "z = Node('z')\n",
    "print(z)\n",
    "myGraph.hasNode(z)"
   ]
  },
  {
   "cell_type": "code",
   "execution_count": 310,
   "id": "123b8b03",
   "metadata": {},
   "outputs": [
    {
     "data": {
      "text/plain": [
       "[<b>, <f>, <d>]"
      ]
     },
     "execution_count": 310,
     "metadata": {},
     "output_type": "execute_result"
    }
   ],
   "source": [
    "myGraph.childrenOf(a)"
   ]
  },
  {
   "cell_type": "code",
   "execution_count": 311,
   "id": "c2583940",
   "metadata": {},
   "outputs": [],
   "source": [
    "# This is an aux method to print the path while the method searches\n",
    "def printPath(path):\n",
    "    \"\"\"Input: list of nodes\"\"\"\n",
    "    result = ''\n",
    "    for i in range(len(path)):\n",
    "        result = result + str(path[i])\n",
    "        if i != len(path) - 1:\n",
    "            result = result + ' --> '\n",
    "    return result"
   ]
  },
  {
   "cell_type": "code",
   "execution_count": 312,
   "id": "ae75610d",
   "metadata": {},
   "outputs": [],
   "source": [
    "# Implementing depth-first algorithm\n",
    "\n",
    "def DFS(graph,start,end,path,shortest,toPrint=False):\n",
    "    \"\"\"Input: a directed graph, path and shortest are lists of nodes\n",
    "    Output: shortest path from strat to end\"\"\"\n",
    "    path = path + [start]\n",
    "    if toPrint:\n",
    "        print('Current DFS path:',printPath(path))\n",
    "    if start==end:\n",
    "        return path\n",
    "    for node in graph.childrenOf(start):\n",
    "        if node not in path: # To avoid getting stuck in a cycle\n",
    "            if (shortest == None) or (len(path) < len(shortest)):\n",
    "                newPath = DFS(graph,node,end,path,shortest,toPrint)\n",
    "                if newPath != None:\n",
    "                    shortest = newPath\n",
    "    if shortest == None:\n",
    "        return 'No path found'\n",
    "    return shortest"
   ]
  },
  {
   "cell_type": "code",
   "execution_count": 313,
   "id": "5a2999b2",
   "metadata": {},
   "outputs": [],
   "source": [
    "def shortest(graph,start,end,toPrint=False):\n",
    "    return DFS(graph,start,end,[],None,toPrint=True)"
   ]
  },
  {
   "cell_type": "code",
   "execution_count": 314,
   "id": "9edb8b0d",
   "metadata": {},
   "outputs": [
    {
     "name": "stdout",
     "output_type": "stream",
     "text": [
      "Current DFS path: a\n",
      "Current DFS path: a --> b\n",
      "Current DFS path: a --> f\n",
      "Current DFS path: a --> d\n"
     ]
    },
    {
     "data": {
      "text/plain": [
       "[<a>, <b>]"
      ]
     },
     "execution_count": 314,
     "metadata": {},
     "output_type": "execute_result"
    }
   ],
   "source": [
    "# testing simple path from a to b\n",
    "shortest(myGraph,a,b)"
   ]
  },
  {
   "cell_type": "code",
   "execution_count": 315,
   "id": "294541b7",
   "metadata": {},
   "outputs": [
    {
     "name": "stdout",
     "output_type": "stream",
     "text": [
      "Current DFS path: c\n",
      "Current DFS path: c --> d\n",
      "Current DFS path: c --> d --> a\n",
      "Current DFS path: c --> d --> a --> b\n",
      "Current DFS path: c --> d --> a --> b --> e\n",
      "Current DFS path: c --> d --> a --> f\n",
      "Current DFS path: c --> d --> b\n",
      "Current DFS path: c --> d --> b --> e\n"
     ]
    },
    {
     "data": {
      "text/plain": [
       "[<c>, <d>, <a>, <f>]"
      ]
     },
     "execution_count": 315,
     "metadata": {},
     "output_type": "execute_result"
    }
   ],
   "source": [
    "# testing from f to c\n",
    "shortest(myGraph,c,f)"
   ]
  },
  {
   "cell_type": "code",
   "execution_count": 316,
   "id": "c7db7e5d",
   "metadata": {},
   "outputs": [
    {
     "name": "stdout",
     "output_type": "stream",
     "text": [
      "Current DFS path: a\n",
      "Current DFS path: a --> b\n",
      "Current DFS path: a --> b --> c\n",
      "Current DFS path: a --> b --> c --> d\n",
      "Current DFS path: a --> b --> e\n",
      "Current DFS path: a --> b --> e --> d\n",
      "Current DFS path: a --> f\n",
      "Current DFS path: a --> f --> e\n",
      "Current DFS path: a --> f --> e --> d\n",
      "Current DFS path: a --> f --> e --> d --> b\n",
      "Current DFS path: a --> f --> e --> d --> b --> c\n",
      "Current DFS path: a --> d\n",
      "Current DFS path: a --> d --> b\n",
      "Current DFS path: a --> d --> b --> c\n",
      "Current DFS path: a --> d --> b --> e\n"
     ]
    },
    {
     "data": {
      "text/plain": [
       "'No path found'"
      ]
     },
     "execution_count": 316,
     "metadata": {},
     "output_type": "execute_result"
    }
   ],
   "source": [
    "# Trying to reach g from a... there is no path\n",
    "shortest(myGraph,a,g)"
   ]
  },
  {
   "cell_type": "code",
   "execution_count": 317,
   "id": "de1e338f",
   "metadata": {},
   "outputs": [
    {
     "name": "stdout",
     "output_type": "stream",
     "text": [
      "Current DFS path: a\n",
      "Current DFS path: a --> b\n",
      "Current DFS path: a --> b --> c\n",
      "Current DFS path: a --> b --> c --> d\n",
      "Current DFS path: a --> b --> e\n",
      "Current DFS path: a --> b --> e --> d\n",
      "Current DFS path: a --> f\n",
      "Current DFS path: a --> f --> e\n",
      "Current DFS path: a --> f --> e --> d\n",
      "Current DFS path: a --> f --> e --> d --> b\n",
      "Current DFS path: a --> f --> e --> d --> b --> c\n",
      "Current DFS path: a --> d\n",
      "Current DFS path: a --> d --> b\n",
      "Current DFS path: a --> d --> b --> c\n",
      "Current DFS path: a --> d --> b --> e\n"
     ]
    },
    {
     "data": {
      "text/plain": [
       "'No path found'"
      ]
     },
     "execution_count": 317,
     "metadata": {},
     "output_type": "execute_result"
    }
   ],
   "source": [
    "# trying to reach the part of the graph that is isolated\n",
    "shortest(myGraph,a,h)"
   ]
  },
  {
   "cell_type": "code",
   "execution_count": 318,
   "id": "d2e39875",
   "metadata": {},
   "outputs": [
    {
     "name": "stdout",
     "output_type": "stream",
     "text": [
      "Current DFS path: i\n",
      "Current DFS path: i --> h\n"
     ]
    },
    {
     "data": {
      "text/plain": [
       "[<i>, <h>]"
      ]
     },
     "execution_count": 318,
     "metadata": {},
     "output_type": "execute_result"
    }
   ],
   "source": [
    "# The communication inside the isolated nodes\n",
    "shortest(myGraph,i,h)"
   ]
  },
  {
   "cell_type": "code",
   "execution_count": null,
   "id": "c6c5b56d",
   "metadata": {},
   "outputs": [],
   "source": []
  }
 ],
 "metadata": {
  "kernelspec": {
   "display_name": "Python 3 (ipykernel)",
   "language": "python",
   "name": "python3"
  },
  "language_info": {
   "codemirror_mode": {
    "name": "ipython",
    "version": 3
   },
   "file_extension": ".py",
   "mimetype": "text/x-python",
   "name": "python",
   "nbconvert_exporter": "python",
   "pygments_lexer": "ipython3",
   "version": "3.11.4"
  }
 },
 "nbformat": 4,
 "nbformat_minor": 5
}
