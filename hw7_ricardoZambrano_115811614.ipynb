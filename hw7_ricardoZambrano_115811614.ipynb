{
 "cells": [
  {
   "cell_type": "code",
   "execution_count": 327,
   "id": "60218dea",
   "metadata": {},
   "outputs": [],
   "source": [
    "# Implementing a binary search tree\n",
    "\n",
    "class BinarySearchTree:\n",
    "    \n",
    "    def __init__(self, value=None) :\n",
    "        self.value = value\n",
    "        self.left = None\n",
    "        self.right = None\n",
    "        \n",
    "    def __str__(self):\n",
    "        return \"BinaryTree({}, {}, {})\".format(str(self.value),\n",
    "                                               str(self.left),\n",
    "                                               str(self.right))\n",
    "    \n",
    "    def __repr__(self):\n",
    "        indent = \"     \"\n",
    "        string = f'root => {self.value}:\\n{indent}left  => {self.left.__repr__()}\\n{indent}right => {self.right.__repr__()}'\n",
    "        return string\n",
    "\n",
    "    \n",
    "    def add(self,value):\n",
    "        \n",
    "        if self.value == None:\n",
    "            self.value = value\n",
    "        \n",
    "        if self.value == value:\n",
    "            return # To avoid duplicates\n",
    "        elif value < self.value:\n",
    "            if self.left:\n",
    "                self.left.add(value)\n",
    "            else:\n",
    "                self.left = BinarySearchTree(value)\n",
    "        else: \n",
    "            if self.right:\n",
    "                self.right.add(value)\n",
    "            else:\n",
    "                self.right = BinarySearchTree(value)\n",
    "\n",
    "### TEMPLATE FROM CLASS SLIDES ###                \n",
    "#     def addRecursive(current, value):\n",
    "#         if (current == None):\n",
    "#             current = BinaryNode(value)\n",
    "#             return current\n",
    "#         if (value < current.value) :\n",
    "#             current.left = addRecursive(current.left, value)\n",
    "#         elif (value > current.value) :\n",
    "#             current.right = addRecursive(current.right, value)\n",
    "#         else :\n",
    "#             return current\n",
    "#         return current"
   ]
  },
  {
   "cell_type": "code",
   "execution_count": 328,
   "id": "789efc61",
   "metadata": {},
   "outputs": [
    {
     "name": "stdout",
     "output_type": "stream",
     "text": [
      "BinaryTree(3, 4, 5)\n"
     ]
    },
    {
     "data": {
      "text/plain": [
       "root => 3:\n",
       "     left  => 4\n",
       "     right => 5"
      ]
     },
     "execution_count": 328,
     "metadata": {},
     "output_type": "execute_result"
    }
   ],
   "source": [
    "a = BinarySearchTree(3)\n",
    "a.left = 4\n",
    "a.right = 5\n",
    "print(a)\n",
    "a"
   ]
  },
  {
   "cell_type": "code",
   "execution_count": 329,
   "id": "30a9ad51",
   "metadata": {},
   "outputs": [
    {
     "data": {
      "text/plain": [
       "root => None:\n",
       "     left  => None\n",
       "     right => None"
      ]
     },
     "execution_count": 329,
     "metadata": {},
     "output_type": "execute_result"
    }
   ],
   "source": [
    "b = BinarySearchTree()\n",
    "b"
   ]
  },
  {
   "cell_type": "code",
   "execution_count": 330,
   "id": "32b89dce",
   "metadata": {},
   "outputs": [
    {
     "data": {
      "text/plain": [
       "root => 3:\n",
       "     left  => None\n",
       "     right => None"
      ]
     },
     "execution_count": 330,
     "metadata": {},
     "output_type": "execute_result"
    }
   ],
   "source": [
    "b.add(3)\n",
    "b"
   ]
  },
  {
   "cell_type": "code",
   "execution_count": 331,
   "id": "16b9f641",
   "metadata": {},
   "outputs": [
    {
     "data": {
      "text/plain": [
       "root => 3:\n",
       "     left  => None\n",
       "     right => None"
      ]
     },
     "execution_count": 331,
     "metadata": {},
     "output_type": "execute_result"
    }
   ],
   "source": [
    "b.add(3)\n",
    "b"
   ]
  },
  {
   "cell_type": "code",
   "execution_count": 332,
   "id": "dacbc648",
   "metadata": {},
   "outputs": [
    {
     "data": {
      "text/plain": [
       "root => 3:\n",
       "     left  => None\n",
       "     right => root => 4:\n",
       "     left  => None\n",
       "     right => None"
      ]
     },
     "execution_count": 332,
     "metadata": {},
     "output_type": "execute_result"
    }
   ],
   "source": [
    "b.add(4)\n",
    "b"
   ]
  },
  {
   "cell_type": "code",
   "execution_count": 333,
   "id": "bf8480c8",
   "metadata": {},
   "outputs": [
    {
     "data": {
      "text/plain": [
       "root => 3:\n",
       "     left  => None\n",
       "     right => root => 4:\n",
       "     left  => None\n",
       "     right => root => 5:\n",
       "     left  => None\n",
       "     right => None"
      ]
     },
     "execution_count": 333,
     "metadata": {},
     "output_type": "execute_result"
    }
   ],
   "source": [
    "b.add(5)\n",
    "b"
   ]
  },
  {
   "cell_type": "code",
   "execution_count": 334,
   "id": "343d0abe",
   "metadata": {},
   "outputs": [
    {
     "data": {
      "text/plain": [
       "root => 3:\n",
       "     left  => root => 2:\n",
       "     left  => None\n",
       "     right => None\n",
       "     right => root => 4:\n",
       "     left  => None\n",
       "     right => root => 5:\n",
       "     left  => None\n",
       "     right => None"
      ]
     },
     "execution_count": 334,
     "metadata": {},
     "output_type": "execute_result"
    }
   ],
   "source": [
    "b.add(2)\n",
    "b"
   ]
  },
  {
   "cell_type": "code",
   "execution_count": 335,
   "id": "3d8bafd2",
   "metadata": {},
   "outputs": [
    {
     "name": "stdout",
     "output_type": "stream",
     "text": [
      "BinaryTree(3, BinaryTree(2, None, None), BinaryTree(4, None, BinaryTree(5, None, None)))\n"
     ]
    }
   ],
   "source": [
    "print(b)"
   ]
  },
  {
   "cell_type": "markdown",
   "id": "8b3a1fe4",
   "metadata": {},
   "source": [
    "**(1)** Given a list of unique and sorted integers in ascending order, implement\n",
    "    a recursive method that builds a binary search tree with minimal height.\n",
    "\n"
   ]
  },
  {
   "cell_type": "code",
   "execution_count": 351,
   "id": "0a5834fd",
   "metadata": {},
   "outputs": [],
   "source": [
    "import math\n",
    "\n",
    "def buildMinHeightTree(ls,tree=None):\n",
    "    \"\"\"Input: a non-empty list sorted in ascending order\n",
    "    Output: a minimum-height binary search tree\"\"\"\n",
    "    assert len(ls) > 0, \"Cannot use empty list as an input\"\n",
    "    \n",
    "    if tree==None:\n",
    "        tree = BinarySearchTree()\n",
    "    \n",
    "    if len(ls) == 1:\n",
    "        tree.add(ls[0])\n",
    "        return tree\n",
    "    elif len(ls) == 2:\n",
    "        tree.add(ls[1])\n",
    "        tree.add(ls[0])\n",
    "        return tree\n",
    "    else:\n",
    "        indx = int(len(ls)/2)\n",
    "        root = ls[indx]\n",
    "        tree.add(root)\n",
    "        left = ls[:indx]\n",
    "        right = ls[indx+1:]\n",
    "        buildMinHeightTree(left,tree)\n",
    "        buildMinHeightTree(right,tree)\n",
    "        return tree"
   ]
  },
  {
   "cell_type": "code",
   "execution_count": 352,
   "id": "78e698da",
   "metadata": {},
   "outputs": [
    {
     "data": {
      "text/plain": [
       "[0, 1, 2, 3, 4, 5, 6, 7, 8]"
      ]
     },
     "execution_count": 352,
     "metadata": {},
     "output_type": "execute_result"
    }
   ],
   "source": [
    "c = list(range(9))\n",
    "c"
   ]
  },
  {
   "cell_type": "code",
   "execution_count": 353,
   "id": "01fff8ef",
   "metadata": {},
   "outputs": [
    {
     "data": {
      "text/plain": [
       "root => 4:\n",
       "     left  => root => 2:\n",
       "     left  => root => 1:\n",
       "     left  => root => 0:\n",
       "     left  => None\n",
       "     right => None\n",
       "     right => None\n",
       "     right => root => 3:\n",
       "     left  => None\n",
       "     right => None\n",
       "     right => root => 7:\n",
       "     left  => root => 6:\n",
       "     left  => root => 5:\n",
       "     left  => None\n",
       "     right => None\n",
       "     right => None\n",
       "     right => root => 8:\n",
       "     left  => None\n",
       "     right => None"
      ]
     },
     "execution_count": 353,
     "metadata": {},
     "output_type": "execute_result"
    }
   ],
   "source": [
    "d = buildMinHeightTree(c)\n",
    "d"
   ]
  },
  {
   "cell_type": "code",
   "execution_count": 354,
   "id": "dc0e96f5",
   "metadata": {},
   "outputs": [
    {
     "name": "stdout",
     "output_type": "stream",
     "text": [
      "BinaryTree(4, BinaryTree(2, BinaryTree(1, BinaryTree(0, None, None), None), BinaryTree(3, None, None)), BinaryTree(7, BinaryTree(6, BinaryTree(5, None, None), None), BinaryTree(8, None, None)))\n"
     ]
    }
   ],
   "source": [
    "print(d)"
   ]
  },
  {
   "cell_type": "markdown",
   "id": "bd618a1c",
   "metadata": {},
   "source": [
    "**(2)** Given a binary tree, implement a recursive function that returns true if\n",
    "    it is balanced or false, otherwise.\n",
    "    Tip: a balanced tree is such that the heights of any node's subtrees never\n",
    "         differ by more than one.\n",
    "\n"
   ]
  },
  {
   "cell_type": "code",
   "execution_count": 528,
   "id": "14e450c4",
   "metadata": {},
   "outputs": [],
   "source": [
    "# Auxiliar function, this is the recursive function\n",
    "def getHeight(tree,depth = 0):\n",
    "    \"\"\"Input: a non-empty tree\n",
    "    Output: the tree's height\"\"\"\n",
    "    \n",
    "    if (tree.left==None) and (tree.right==None):\n",
    "        return depth\n",
    "    elif (isinstance(tree.left,int)) and (isinstance(tree.left,int)):\n",
    "        depth = depth + 1\n",
    "        return depth\n",
    "    elif (tree.left!=None) and (tree.right!=None):\n",
    "        depth = depth + 1\n",
    "        return max(getHeight(tree.left,depth),getHeight(tree.right,depth))\n",
    "    else:\n",
    "        depth = depth + 1\n",
    "        if tree.left!=None:\n",
    "            return getHeight(tree.left,depth)\n",
    "        else:\n",
    "            return getHeight(tree.right,depth)"
   ]
  },
  {
   "cell_type": "code",
   "execution_count": 531,
   "id": "d6cf5b30",
   "metadata": {},
   "outputs": [],
   "source": [
    "e = buildMinHeightTree(list(range(1)))\n",
    "f = buildMinHeightTree(list(range(2)))\n",
    "g = buildMinHeightTree(list(range(3)))\n",
    "h = buildMinHeightTree(list(range(4)))\n",
    "i = buildMinHeightTree(list(range(5)))"
   ]
  },
  {
   "cell_type": "code",
   "execution_count": 532,
   "id": "67dddf18",
   "metadata": {},
   "outputs": [
    {
     "name": "stdout",
     "output_type": "stream",
     "text": [
      "0\n",
      "1\n",
      "1\n",
      "2\n",
      "2\n",
      "3\n"
     ]
    }
   ],
   "source": [
    "print(getHeight(e))\n",
    "print(getHeight(f))\n",
    "print(getHeight(g))\n",
    "print(getHeight(h))\n",
    "print(getHeight(i))\n",
    "print(getHeight(d))"
   ]
  },
  {
   "cell_type": "code",
   "execution_count": 533,
   "id": "a1c5c853",
   "metadata": {},
   "outputs": [],
   "source": [
    "# This function wraps the recursive function that gets the heigth\n",
    "\n",
    "def isBalanced(tree):\n",
    "    \"\"\"Input: a non-empty tree\n",
    "    Output: return true if the tree is balanced, false otherwise\"\"\"\n",
    "    \n",
    "    if (tree.left==None) and (tree.right==None):\n",
    "        return True\n",
    "    elif (tree.left!=None) and (tree.right!=None):\n",
    "        diff = abs(getHeight(tree.left)-getHeight(tree.right))\n",
    "        if diff < 2:\n",
    "            return True\n",
    "        else:\n",
    "            return False\n",
    "    else:\n",
    "        if tree.left!=None:\n",
    "            depth = getHeight(tree.left)\n",
    "            if depth < 2:\n",
    "                return True\n",
    "            else:\n",
    "                return False\n",
    "        elif tree.right!=None:\n",
    "            depth = getHeight(tree.right)\n",
    "            if depth < 2:\n",
    "                return True\n",
    "            else:\n",
    "                return False\n",
    "        else:\n",
    "            return False"
   ]
  },
  {
   "cell_type": "code",
   "execution_count": 534,
   "id": "23288c7a",
   "metadata": {},
   "outputs": [
    {
     "name": "stdout",
     "output_type": "stream",
     "text": [
      "True\n",
      "True\n",
      "True\n",
      "True\n",
      "True\n",
      "True\n"
     ]
    }
   ],
   "source": [
    "print(isBalanced(d))\n",
    "print(isBalanced(e))\n",
    "print(isBalanced(f))\n",
    "print(isBalanced(g))\n",
    "print(isBalanced(h))\n",
    "print(isBalanced(i))"
   ]
  },
  {
   "cell_type": "code",
   "execution_count": 535,
   "id": "b6a91d25",
   "metadata": {},
   "outputs": [
    {
     "data": {
      "text/plain": [
       "root => 1:\n",
       "     left  => None\n",
       "     right => root => 2:\n",
       "     left  => None\n",
       "     right => root => 3:\n",
       "     left  => None\n",
       "     right => root => 4:\n",
       "     left  => None\n",
       "     right => root => 5:\n",
       "     left  => None\n",
       "     right => root => 6:\n",
       "     left  => None\n",
       "     right => None"
      ]
     },
     "execution_count": 535,
     "metadata": {},
     "output_type": "execute_result"
    }
   ],
   "source": [
    "j = BinarySearchTree()\n",
    "vals = [1,2,3,4,5,6]\n",
    "for val in vals:\n",
    "    j.add(val)\n",
    "j"
   ]
  },
  {
   "cell_type": "code",
   "execution_count": 536,
   "id": "4fd2488e",
   "metadata": {},
   "outputs": [
    {
     "name": "stdout",
     "output_type": "stream",
     "text": [
      "False\n"
     ]
    }
   ],
   "source": [
    "print(isBalanced(j))"
   ]
  },
  {
   "cell_type": "markdown",
   "id": "5f8f90b9",
   "metadata": {},
   "source": [
    "**(3)** Given a binary tree, implement a function that returns true if it is a\n",
    "    binary search tree, false otherwise."
   ]
  },
  {
   "cell_type": "code",
   "execution_count": 684,
   "id": "502d1bd3",
   "metadata": {},
   "outputs": [],
   "source": [
    "def maxValue(tree):\n",
    "    \n",
    "    # Base case\n",
    "    if (tree == None):\n",
    "        return float('-inf')\n",
    "\n",
    "    res = tree.value\n",
    "    \n",
    "    lres = tree.left if isinstance(tree.left,int) else maxValue(tree.left)\n",
    "    rres = tree.right if isinstance(tree.right,int) else maxValue(tree.right)\n",
    "    \n",
    "    if (lres > res):\n",
    "        res = lres\n",
    "    if (rres > res):\n",
    "        res = rres\n",
    "    return res\n",
    "\n",
    "def minValue(tree):\n",
    "    \n",
    "    # Base case\n",
    "    if (tree == None):\n",
    "        return float('inf')\n",
    "    \n",
    "    res = tree.value\n",
    "    \n",
    "    lres = tree.left if isinstance(tree.left,int) else minValue(tree.left)\n",
    "    rres = tree.right if isinstance(tree.right,int) else minValue(tree.right)\n",
    "    \n",
    "    if (lres < res):\n",
    "        res = lres\n",
    "    if (rres < res):\n",
    "        res = rres\n",
    "    return res\n",
    "\n",
    "def isBST(tree):\n",
    "    \"\"\"Input: a non-empty tree\n",
    "    Output: returns True if te tree is a binary search tree, otherwise False\"\"\"\n",
    "    \n",
    "    if (tree == None):\n",
    "        return True\n",
    "    \n",
    "    left = tree.left if isinstance(tree.left,int) else maxValue(tree.left)\n",
    "    right = tree.right if isinstance(tree.right,int) else minValue(tree.right)\n",
    "    \n",
    "    if(tree.left is not None and left > tree.value):\n",
    "        return False\n",
    "    \n",
    "    if(tree.right is not None and right < tree.value):\n",
    "        return False\n",
    "\n",
    "    if(isBST(tree.left) is False or isBST(tree.right) is False):\n",
    "        return False\n",
    "    \n",
    "    return True"
   ]
  },
  {
   "cell_type": "code",
   "execution_count": 685,
   "id": "8c5f35da",
   "metadata": {},
   "outputs": [
    {
     "name": "stdout",
     "output_type": "stream",
     "text": [
      "5\n",
      "5\n",
      "8\n",
      "1\n",
      "2\n",
      "3\n",
      "4\n",
      "6\n"
     ]
    }
   ],
   "source": [
    "print(maxValue(a))\n",
    "print(maxValue(b))\n",
    "print(maxValue(d))\n",
    "print(maxValue(f))\n",
    "print(maxValue(g))\n",
    "print(maxValue(h))\n",
    "print(maxValue(i))\n",
    "print(maxValue(j))"
   ]
  },
  {
   "cell_type": "code",
   "execution_count": 686,
   "id": "3c9e60f6",
   "metadata": {},
   "outputs": [
    {
     "name": "stdout",
     "output_type": "stream",
     "text": [
      "3\n",
      "2\n",
      "0\n",
      "0\n",
      "0\n",
      "0\n",
      "0\n",
      "1\n"
     ]
    }
   ],
   "source": [
    "print(minValue(a))\n",
    "print(minValue(b))\n",
    "print(minValue(d))\n",
    "print(minValue(f))\n",
    "print(minValue(g))\n",
    "print(minValue(h))\n",
    "print(minValue(i))\n",
    "print(minValue(j))"
   ]
  },
  {
   "cell_type": "code",
   "execution_count": 687,
   "id": "1171b6fd",
   "metadata": {},
   "outputs": [
    {
     "data": {
      "text/plain": [
       "False"
      ]
     },
     "execution_count": 687,
     "metadata": {},
     "output_type": "execute_result"
    }
   ],
   "source": [
    "isBST(a)"
   ]
  },
  {
   "cell_type": "code",
   "execution_count": 688,
   "id": "16c571a7",
   "metadata": {},
   "outputs": [
    {
     "data": {
      "text/plain": [
       "root => 3:\n",
       "     left  => 4\n",
       "     right => 5"
      ]
     },
     "execution_count": 688,
     "metadata": {},
     "output_type": "execute_result"
    }
   ],
   "source": [
    "a"
   ]
  },
  {
   "cell_type": "code",
   "execution_count": 689,
   "id": "6d8354ec",
   "metadata": {},
   "outputs": [
    {
     "data": {
      "text/plain": [
       "True"
      ]
     },
     "execution_count": 689,
     "metadata": {},
     "output_type": "execute_result"
    }
   ],
   "source": [
    "isBST(b)"
   ]
  },
  {
   "cell_type": "code",
   "execution_count": 691,
   "id": "3c9ebed0",
   "metadata": {},
   "outputs": [
    {
     "data": {
      "text/plain": [
       "root => 3:\n",
       "     left  => root => 2:\n",
       "     left  => None\n",
       "     right => None\n",
       "     right => root => 4:\n",
       "     left  => None\n",
       "     right => root => 5:\n",
       "     left  => None\n",
       "     right => None"
      ]
     },
     "execution_count": 691,
     "metadata": {},
     "output_type": "execute_result"
    }
   ],
   "source": [
    "b"
   ]
  },
  {
   "cell_type": "code",
   "execution_count": 692,
   "id": "b42cf493",
   "metadata": {},
   "outputs": [
    {
     "data": {
      "text/plain": [
       "True"
      ]
     },
     "execution_count": 692,
     "metadata": {},
     "output_type": "execute_result"
    }
   ],
   "source": [
    "isBST(d)"
   ]
  },
  {
   "cell_type": "code",
   "execution_count": 693,
   "id": "0642ba04",
   "metadata": {},
   "outputs": [
    {
     "data": {
      "text/plain": [
       "root => 4:\n",
       "     left  => root => 2:\n",
       "     left  => root => 1:\n",
       "     left  => root => 0:\n",
       "     left  => None\n",
       "     right => None\n",
       "     right => None\n",
       "     right => root => 3:\n",
       "     left  => None\n",
       "     right => None\n",
       "     right => root => 7:\n",
       "     left  => root => 6:\n",
       "     left  => root => 5:\n",
       "     left  => None\n",
       "     right => None\n",
       "     right => None\n",
       "     right => root => 8:\n",
       "     left  => None\n",
       "     right => None"
      ]
     },
     "execution_count": 693,
     "metadata": {},
     "output_type": "execute_result"
    }
   ],
   "source": [
    "d"
   ]
  },
  {
   "cell_type": "code",
   "execution_count": 694,
   "id": "55e43e25",
   "metadata": {},
   "outputs": [
    {
     "data": {
      "text/plain": [
       "True"
      ]
     },
     "execution_count": 694,
     "metadata": {},
     "output_type": "execute_result"
    }
   ],
   "source": [
    "isBST(f)"
   ]
  },
  {
   "cell_type": "code",
   "execution_count": 695,
   "id": "66f35601",
   "metadata": {},
   "outputs": [
    {
     "data": {
      "text/plain": [
       "root => 1:\n",
       "     left  => root => 0:\n",
       "     left  => None\n",
       "     right => None\n",
       "     right => None"
      ]
     },
     "execution_count": 695,
     "metadata": {},
     "output_type": "execute_result"
    }
   ],
   "source": [
    "f"
   ]
  },
  {
   "cell_type": "code",
   "execution_count": 696,
   "id": "569b3804",
   "metadata": {},
   "outputs": [
    {
     "data": {
      "text/plain": [
       "True"
      ]
     },
     "execution_count": 696,
     "metadata": {},
     "output_type": "execute_result"
    }
   ],
   "source": [
    "isBST(g)"
   ]
  },
  {
   "cell_type": "code",
   "execution_count": 697,
   "id": "2d8986a8",
   "metadata": {},
   "outputs": [
    {
     "data": {
      "text/plain": [
       "root => 1:\n",
       "     left  => root => 0:\n",
       "     left  => None\n",
       "     right => None\n",
       "     right => root => 2:\n",
       "     left  => None\n",
       "     right => None"
      ]
     },
     "execution_count": 697,
     "metadata": {},
     "output_type": "execute_result"
    }
   ],
   "source": [
    "g"
   ]
  },
  {
   "cell_type": "code",
   "execution_count": 698,
   "id": "e7d45680",
   "metadata": {},
   "outputs": [
    {
     "data": {
      "text/plain": [
       "True"
      ]
     },
     "execution_count": 698,
     "metadata": {},
     "output_type": "execute_result"
    }
   ],
   "source": [
    "isBST(h)"
   ]
  },
  {
   "cell_type": "code",
   "execution_count": 699,
   "id": "c8a3ac46",
   "metadata": {},
   "outputs": [
    {
     "data": {
      "text/plain": [
       "root => 2:\n",
       "     left  => root => 1:\n",
       "     left  => root => 0:\n",
       "     left  => None\n",
       "     right => None\n",
       "     right => None\n",
       "     right => root => 3:\n",
       "     left  => None\n",
       "     right => None"
      ]
     },
     "execution_count": 699,
     "metadata": {},
     "output_type": "execute_result"
    }
   ],
   "source": [
    "h"
   ]
  },
  {
   "cell_type": "code",
   "execution_count": 700,
   "id": "4c3508fc",
   "metadata": {},
   "outputs": [
    {
     "data": {
      "text/plain": [
       "True"
      ]
     },
     "execution_count": 700,
     "metadata": {},
     "output_type": "execute_result"
    }
   ],
   "source": [
    "isBST(i)"
   ]
  },
  {
   "cell_type": "code",
   "execution_count": 701,
   "id": "de14e781",
   "metadata": {},
   "outputs": [
    {
     "data": {
      "text/plain": [
       "root => 2:\n",
       "     left  => root => 1:\n",
       "     left  => root => 0:\n",
       "     left  => None\n",
       "     right => None\n",
       "     right => None\n",
       "     right => root => 4:\n",
       "     left  => root => 3:\n",
       "     left  => None\n",
       "     right => None\n",
       "     right => None"
      ]
     },
     "execution_count": 701,
     "metadata": {},
     "output_type": "execute_result"
    }
   ],
   "source": [
    "i"
   ]
  },
  {
   "cell_type": "code",
   "execution_count": 702,
   "id": "cccaccda",
   "metadata": {},
   "outputs": [
    {
     "data": {
      "text/plain": [
       "True"
      ]
     },
     "execution_count": 702,
     "metadata": {},
     "output_type": "execute_result"
    }
   ],
   "source": [
    "isBST(j)"
   ]
  },
  {
   "cell_type": "code",
   "execution_count": 703,
   "id": "078e077f",
   "metadata": {},
   "outputs": [
    {
     "data": {
      "text/plain": [
       "root => 1:\n",
       "     left  => None\n",
       "     right => root => 2:\n",
       "     left  => None\n",
       "     right => root => 3:\n",
       "     left  => None\n",
       "     right => root => 4:\n",
       "     left  => None\n",
       "     right => root => 5:\n",
       "     left  => None\n",
       "     right => root => 6:\n",
       "     left  => None\n",
       "     right => None"
      ]
     },
     "execution_count": 703,
     "metadata": {},
     "output_type": "execute_result"
    }
   ],
   "source": [
    "j"
   ]
  },
  {
   "cell_type": "code",
   "execution_count": null,
   "id": "966b3a51",
   "metadata": {},
   "outputs": [],
   "source": []
  }
 ],
 "metadata": {
  "kernelspec": {
   "display_name": "Python 3 (ipykernel)",
   "language": "python",
   "name": "python3"
  },
  "language_info": {
   "codemirror_mode": {
    "name": "ipython",
    "version": 3
   },
   "file_extension": ".py",
   "mimetype": "text/x-python",
   "name": "python",
   "nbconvert_exporter": "python",
   "pygments_lexer": "ipython3",
   "version": "3.11.4"
  }
 },
 "nbformat": 4,
 "nbformat_minor": 5
}
