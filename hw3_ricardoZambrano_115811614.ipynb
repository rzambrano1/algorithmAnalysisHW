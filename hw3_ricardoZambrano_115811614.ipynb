{
 "cells": [
  {
   "cell_type": "code",
   "execution_count": 72,
   "id": "d2382a12",
   "metadata": {},
   "outputs": [],
   "source": [
    "import array as arr\n",
    "import numpy as np\n",
    "from collections import Counter\n",
    "\n",
    "# $ python -m pip install <package>\n",
    "# Install a pip package in the current Jupyter kernel\n",
    "# import sys\n",
    "# !{sys.executable} -m pip install numpy"
   ]
  },
  {
   "cell_type": "markdown",
   "id": "86c0161a",
   "metadata": {},
   "source": [
    "In the following questions, an array of characters is a \"character array\" created in the following\n",
    "manner:"
   ]
  },
  {
   "cell_type": "markdown",
   "id": "6907743f",
   "metadata": {},
   "source": [
    "array1 = arr.array('c')"
   ]
  },
  {
   "cell_type": "markdown",
   "id": "e03e0d6e",
   "metadata": {},
   "source": [
    "Note that this is an array data type supported in recent Python versions, and is different from the\n",
    "Array data type we discussed in class."
   ]
  },
  {
   "cell_type": "markdown",
   "id": "f8f83651",
   "metadata": {},
   "source": [
    "**[Ric wrote]:** As shown by the code in the next line array.arr() does not support neither the typecode 'c' nor string items. Using numpy arrays with dtype='a5' instead."
   ]
  },
  {
   "cell_type": "markdown",
   "id": "bd8ad6e5",
   "metadata": {},
   "source": [
    "**[Ric wrote]:** **IMPORTANT NOTE**, given that it is not explicitly required and given that we are working with arrays of characters, I am not making the characters lowercase. This means that the methods are case sensitive."
   ]
  },
  {
   "cell_type": "code",
   "execution_count": 11,
   "id": "4c33170d",
   "metadata": {},
   "outputs": [
    {
     "data": {
      "text/plain": [
       "array([b'a', b'b', b'c', b'd'], dtype='|S5')"
      ]
     },
     "execution_count": 11,
     "metadata": {},
     "output_type": "execute_result"
    }
   ],
   "source": [
    "# Example of np arrays with strings:\n",
    "a = np.array(list('abcd'), dtype='a5')\n",
    "a"
   ]
  },
  {
   "cell_type": "markdown",
   "id": "f4150f6a",
   "metadata": {},
   "source": [
    "**(1)** Given two arrays of characters, implement a method to decide if one array is a permutation\n",
    "    of the other."
   ]
  },
  {
   "cell_type": "code",
   "execution_count": 78,
   "id": "1fed4e16",
   "metadata": {},
   "outputs": [],
   "source": [
    "def isPermutation(arr1,arr2):\n",
    "    \"\"\"Input: Two numpy arrays of characters, dtype='a5'.\n",
    "    Output: Returns True if arr2 is a permutation of the characters in arr1.\"\"\"\n",
    "    if len(arr1) != len(arr2):\n",
    "        return False\n",
    "    \n",
    "    count1 = Counter(arr1)\n",
    "    count2 = Counter(arr2)\n",
    "    \n",
    "    if count1 == count2:\n",
    "        return True\n",
    "    return False"
   ]
  },
  {
   "cell_type": "code",
   "execution_count": 79,
   "id": "35b7f8b2",
   "metadata": {},
   "outputs": [
    {
     "data": {
      "text/plain": [
       "True"
      ]
     },
     "execution_count": 79,
     "metadata": {},
     "output_type": "execute_result"
    }
   ],
   "source": [
    "e = np.array(list('abbcddba'), dtype='a5')\n",
    "f = np.array(list('abcdbbad'), dtype='a5')\n",
    "\n",
    "isPermutation(e,f)"
   ]
  },
  {
   "cell_type": "code",
   "execution_count": 80,
   "id": "11304dad",
   "metadata": {},
   "outputs": [
    {
     "data": {
      "text/plain": [
       "False"
      ]
     },
     "execution_count": 80,
     "metadata": {},
     "output_type": "execute_result"
    }
   ],
   "source": [
    "isPermutation(e,a)"
   ]
  },
  {
   "cell_type": "markdown",
   "id": "336ec970",
   "metadata": {},
   "source": [
    "**(2)** Given an array of characters, develop an algorithm that checks if it has all unique characters. "
   ]
  },
  {
   "cell_type": "code",
   "execution_count": 68,
   "id": "2e139182",
   "metadata": {},
   "outputs": [],
   "source": [
    "def hasUniqueChars(arr):\n",
    "    \"\"\"input: A numpy array of characters, dtype='a5'.\n",
    "    Output: Returns True if all characters are unique.\"\"\"\n",
    "    if len(set(arr)) == len(arr):\n",
    "        return True\n",
    "    return False"
   ]
  },
  {
   "cell_type": "code",
   "execution_count": 70,
   "id": "9a0c046c",
   "metadata": {},
   "outputs": [
    {
     "data": {
      "text/plain": [
       "True"
      ]
     },
     "execution_count": 70,
     "metadata": {},
     "output_type": "execute_result"
    }
   ],
   "source": [
    "hasUniqueChars(a)"
   ]
  },
  {
   "cell_type": "code",
   "execution_count": 71,
   "id": "455063d3",
   "metadata": {},
   "outputs": [
    {
     "data": {
      "text/plain": [
       "False"
      ]
     },
     "execution_count": 71,
     "metadata": {},
     "output_type": "execute_result"
    }
   ],
   "source": [
    "c = np.array(list('aaaabccdddaa'), dtype='a5')\n",
    "hasUniqueChars(c)"
   ]
  },
  {
   "cell_type": "markdown",
   "id": "5e90b2cf",
   "metadata": {},
   "source": [
    "**(3)** Given an array of characters, implement an algorithm that checks if it is a palindrome."
   ]
  },
  {
   "cell_type": "code",
   "execution_count": 84,
   "id": "5738e7bc",
   "metadata": {},
   "outputs": [],
   "source": [
    "def isPalindrome(arr):\n",
    "    \"\"\"Input: A numpy array of characters, dtype='a5'.\n",
    "    Output: Returns True if characters in arr are palindrome.\"\"\"\n",
    "    if len(arr) == 1:\n",
    "        return True\n",
    "    elif len(arr) == 2:\n",
    "        if arr[0] == arr[1]:\n",
    "            return True\n",
    "        else:\n",
    "            return False\n",
    "    else:\n",
    "        if arr[0] != arr[len(arr)-1]:\n",
    "            return False\n",
    "        else:\n",
    "            return isPalindrome(arr[1:(len(arr)-1)])"
   ]
  },
  {
   "cell_type": "code",
   "execution_count": 85,
   "id": "f01f3cb3",
   "metadata": {},
   "outputs": [],
   "source": [
    "g = np.array(list('perro'), dtype='a5')\n",
    "h = np.array(list('p'), dtype='a5')\n",
    "j = np.array(list('pe'), dtype='a5')\n",
    "k = np.array(list('pp'), dtype='a5')\n",
    "l = np.array(list('dad'), dtype='a5')\n",
    "m = np.array(list('madam'), dtype='a5')"
   ]
  },
  {
   "cell_type": "code",
   "execution_count": 86,
   "id": "0363752b",
   "metadata": {},
   "outputs": [
    {
     "name": "stdout",
     "output_type": "stream",
     "text": [
      "False\n",
      "True\n",
      "False\n",
      "True\n",
      "True\n",
      "True\n"
     ]
    }
   ],
   "source": [
    "print(isPalindrome(g))\n",
    "print(isPalindrome(h))\n",
    "print(isPalindrome(j))\n",
    "print(isPalindrome(k))\n",
    "print(isPalindrome(l))\n",
    "print(isPalindrome(m))"
   ]
  },
  {
   "cell_type": "markdown",
   "id": "c705dfcf",
   "metadata": {},
   "source": [
    "**(4)** Given an array of characters, implement a method that performs basic string compression such\n",
    "    that \"aaaabccdddaa\" becomes \"a4b1c2d3a2\"."
   ]
  },
  {
   "cell_type": "code",
   "execution_count": 40,
   "id": "e748835f",
   "metadata": {},
   "outputs": [],
   "source": [
    "def strComp(arr):\n",
    "    \"\"\"Input: A numpy array of characters, dtype='a5'.\n",
    "    Output: Compresses repeated characers.\"\"\"\n",
    "    startIndx = 0\n",
    "    nextIndx = 1\n",
    "    charCount = 1\n",
    "    \n",
    "    characterList = []\n",
    "    numTimesList = []\n",
    "    \n",
    "    while startIndx < len(arr):\n",
    "        flag = False\n",
    "        while (nextIndx < len(arr)) and (flag==False):\n",
    "            if arr[startIndx] == arr[nextIndx]:\n",
    "                nextIndx = nextIndx + 1\n",
    "                charCount = charCount + 1\n",
    "            else:\n",
    "                flag = True\n",
    "        characterList.append(arr[startIndx])\n",
    "        numTimesList.append(charCount)\n",
    "        startIndx = nextIndx\n",
    "        nextIndx = startIndx + 1\n",
    "        charCount = 1\n",
    "    \n",
    "    return np.array(list(zip(characterList,numTimesList)), dtype='a5')"
   ]
  },
  {
   "cell_type": "code",
   "execution_count": 59,
   "id": "1f58772e",
   "metadata": {},
   "outputs": [],
   "source": [
    "b = np.array(list('aaaaaaaaaabbbbbbcccdddddddddddddddddddd'), dtype='a5')"
   ]
  },
  {
   "cell_type": "code",
   "execution_count": 61,
   "id": "3087675a",
   "metadata": {},
   "outputs": [
    {
     "data": {
      "text/plain": [
       "array([[b'a', b'10'],\n",
       "       [b'b', b'6'],\n",
       "       [b'c', b'3'],\n",
       "       [b'd', b'20']], dtype='|S5')"
      ]
     },
     "execution_count": 61,
     "metadata": {},
     "output_type": "execute_result"
    }
   ],
   "source": [
    "strComp(b)"
   ]
  },
  {
   "cell_type": "code",
   "execution_count": 62,
   "id": "86a5a6c7",
   "metadata": {},
   "outputs": [
    {
     "data": {
      "text/plain": [
       "array([[b'a', b'4'],\n",
       "       [b'b', b'1'],\n",
       "       [b'c', b'2'],\n",
       "       [b'd', b'3'],\n",
       "       [b'a', b'2']], dtype='|S5')"
      ]
     },
     "execution_count": 62,
     "metadata": {},
     "output_type": "execute_result"
    }
   ],
   "source": [
    "c = np.array(list('aaaabccdddaa'), dtype='a5')\n",
    "strComp(c)"
   ]
  },
  {
   "cell_type": "markdown",
   "id": "2a32ba11",
   "metadata": {},
   "source": [
    "**(5)** Given two arrays of characters:\n",
    "\n",
    "**(a)** develop a method that checks if one array is a \"substring\" of the other."
   ]
  },
  {
   "cell_type": "code",
   "execution_count": 128,
   "id": "8bc80db7",
   "metadata": {},
   "outputs": [],
   "source": [
    "def isSubstring(arr1,arr2):\n",
    "    \"\"\"Input: Two numpy arrays of characters, dtype='a5'.\n",
    "    Output: Returns True if arr2 is a substring of arr1.\"\"\"\n",
    "    \n",
    "    len1 = len(arr1)\n",
    "    len2 = len(arr2)\n",
    "    \n",
    "    if len2 > len1:\n",
    "        print(\"arr2 is longer than arr1\")\n",
    "        return False\n",
    "    \n",
    "    for i in range(0,(len1-len2+1)):\n",
    "        equalLetters = 0\n",
    "        for j in range(len2):\n",
    "            if arr1[i+j] == arr2[j]:\n",
    "                equalLetters = equalLetters + 1\n",
    "        if equalLetters == len2:\n",
    "            return True\n",
    "        \n",
    "    return False"
   ]
  },
  {
   "cell_type": "code",
   "execution_count": 134,
   "id": "b805e839",
   "metadata": {},
   "outputs": [
    {
     "data": {
      "text/plain": [
       "True"
      ]
     },
     "execution_count": 134,
     "metadata": {},
     "output_type": "execute_result"
    }
   ],
   "source": [
    "n = np.array(list('ccccccccccccwmarydcwcwecwecwemadry'), dtype='a5')\n",
    "o = np.array(list('mary'), dtype='a5')\n",
    "isSubstring(n,o)"
   ]
  },
  {
   "cell_type": "code",
   "execution_count": 135,
   "id": "308b259c",
   "metadata": {},
   "outputs": [
    {
     "data": {
      "text/plain": [
       "False"
      ]
     },
     "execution_count": 135,
     "metadata": {},
     "output_type": "execute_result"
    }
   ],
   "source": [
    "isSubstring(c,o)"
   ]
  },
  {
   "cell_type": "code",
   "execution_count": 138,
   "id": "8f13852e",
   "metadata": {},
   "outputs": [
    {
     "data": {
      "text/plain": [
       "False"
      ]
     },
     "execution_count": 138,
     "metadata": {},
     "output_type": "execute_result"
    }
   ],
   "source": [
    "# As I mentioned in my note above, since the methods are not explicitly required to be case insensitive and we are \n",
    "# working with arrays of characters, the method is case sensitive:\n",
    "p = np.array(list('Mary'), dtype='a5')\n",
    "isSubstring(n,p)"
   ]
  },
  {
   "cell_type": "markdown",
   "id": "4fdbcbe0",
   "metadata": {},
   "source": [
    "**(b)** Using the substring method, implement a method that checks if one array is a rotation of\n",
    "    the other such that the \"string\" in array1 = \"landmary\" is a rotation of array2 = \"maryland\""
   ]
  },
  {
   "cell_type": "code",
   "execution_count": 159,
   "id": "26bc9ca1",
   "metadata": {},
   "outputs": [],
   "source": [
    "def isRotation(arr1,arr2):\n",
    "    \"\"\"Input: Two numpy arrays of characters, dtype='a5'.\n",
    "    Output: Returns True if arr2 is a rotation of arr1.\"\"\"\n",
    "    \n",
    "    if len(arr1) != len(arr2):\n",
    "        return False\n",
    "    \n",
    "    lista1 = list(arr1)\n",
    "    lista2 = list(arr2)\n",
    "    \n",
    "    if lista1 == lista2:\n",
    "        print(\"Both are the same sequence, not a rotation\")\n",
    "        return False\n",
    "    \n",
    "    for i in range(len(lista2)-1):\n",
    "        letra = lista2.pop(0)\n",
    "        lista2.append(letra)\n",
    "        if lista1 == lista2:\n",
    "            return True\n",
    "    \n",
    "    return False"
   ]
  },
  {
   "cell_type": "code",
   "execution_count": 157,
   "id": "8808d26f",
   "metadata": {},
   "outputs": [
    {
     "data": {
      "text/plain": [
       "True"
      ]
     },
     "execution_count": 157,
     "metadata": {},
     "output_type": "execute_result"
    }
   ],
   "source": [
    "word = np.array(list('maryland'), dtype='a5')\n",
    "rotatedWord = np.array(list('landmary'), dtype='a5')\n",
    "\n",
    "isRotation(word,rotatedWord)"
   ]
  },
  {
   "cell_type": "code",
   "execution_count": 158,
   "id": "2f259d15",
   "metadata": {},
   "outputs": [
    {
     "data": {
      "text/plain": [
       "True"
      ]
     },
     "execution_count": 158,
     "metadata": {},
     "output_type": "execute_result"
    }
   ],
   "source": [
    "word = np.array(list('maryland'), dtype='a5')\n",
    "rotatedWord = np.array(list('ndmaryla'), dtype='a5')\n",
    "\n",
    "isRotation(word,rotatedWord)"
   ]
  },
  {
   "cell_type": "code",
   "execution_count": 160,
   "id": "2bb62857",
   "metadata": {},
   "outputs": [
    {
     "data": {
      "text/plain": [
       "False"
      ]
     },
     "execution_count": 160,
     "metadata": {},
     "output_type": "execute_result"
    }
   ],
   "source": [
    "word = np.array(list('maryland'), dtype='a5')\n",
    "rotatedWord = np.array(list('perro'), dtype='a5')\n",
    "\n",
    "isRotation(word,rotatedWord)"
   ]
  },
  {
   "cell_type": "code",
   "execution_count": 161,
   "id": "20d7c9f9",
   "metadata": {},
   "outputs": [
    {
     "data": {
      "text/plain": [
       "False"
      ]
     },
     "execution_count": 161,
     "metadata": {},
     "output_type": "execute_result"
    }
   ],
   "source": [
    "word = np.array(list('maryland'), dtype='a5')\n",
    "rotatedWord = np.array(list('ndFaryla'), dtype='a5')\n",
    "\n",
    "isRotation(word,rotatedWord)"
   ]
  },
  {
   "cell_type": "code",
   "execution_count": null,
   "id": "157f23de",
   "metadata": {},
   "outputs": [],
   "source": []
  }
 ],
 "metadata": {
  "kernelspec": {
   "display_name": "Python 3 (ipykernel)",
   "language": "python",
   "name": "python3"
  },
  "language_info": {
   "codemirror_mode": {
    "name": "ipython",
    "version": 3
   },
   "file_extension": ".py",
   "mimetype": "text/x-python",
   "name": "python",
   "nbconvert_exporter": "python",
   "pygments_lexer": "ipython3",
   "version": "3.11.4"
  }
 },
 "nbformat": 4,
 "nbformat_minor": 5
}
