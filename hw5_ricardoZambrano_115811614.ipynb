{
 "cells": [
  {
   "cell_type": "code",
   "execution_count": 282,
   "id": "45047052",
   "metadata": {},
   "outputs": [],
   "source": [
    "# Implementing a single linked list in order to be able to test the methods in the homework\n",
    "# Code refractored from this source: https://towardsdatascience.com/python-linked-lists-c3622205da81\n",
    "\n",
    "class Node:\n",
    "    \"\"\"Creates a linked list node class\"\"\"\n",
    "    \n",
    "    def __init__(self, value, next_node=None):#, prev_node=None): # Removing the last argument \n",
    "                                                                  # because we need a singly linked lst\n",
    "        self.value = value\n",
    "        self.next = next_node\n",
    "        #self.prev = prev_node # This statement is not required for a single linked list\n",
    "\n",
    "    def __str__(self):\n",
    "        return str(self.value)\n",
    "    \n",
    "    def __repr__(self):             # Adding a __repr__ method\n",
    "        return f'Node({self.value})'\n",
    "    \n",
    "class LinkedList:\n",
    "    \"\"\"Creates a linked list\"\"\"\n",
    "    \n",
    "    def __init__(self, *values): # Deleting values=None and adding * in front\n",
    "        if not values:           # Adding this line of code to handle empty *values and identing next two lines\n",
    "            self.head = None\n",
    "            self.tail = None\n",
    "        else:                    # Changing if for else. Original line: if values is not None\n",
    "            self.head = None\n",
    "            self.tail = None\n",
    "            for value in values: # Replaced add_multiple_values with the for loop\n",
    "                self.add_node(value)\n",
    "            \n",
    "    def add_node(self, value):\n",
    "        if self.head is None:\n",
    "            self.tail = self.head = Node(value)\n",
    "        else:\n",
    "            self.tail.next = Node(value)\n",
    "            self.tail = self.tail.next\n",
    "        return self.tail\n",
    "\n",
    "    def add_multiple_nodes(self, *values): # Adding the * in front of values to accept multiple arguments\n",
    "        for value in values:\n",
    "            self.add_node(value)\n",
    "        \n",
    "    def add_node_as_head(self, value):\n",
    "        if self.head is None:\n",
    "            self.tail = self.head = Node(value)\n",
    "        else:\n",
    "            self.head = Node(value, self.head)\n",
    "        return self.head\n",
    "    \n",
    "    def __repr__(self):                    # Adding a __repr__ method\n",
    "        if self.head == None:\n",
    "            components = \"\"\n",
    "        else:\n",
    "            components = ' -> '.join([str(node) for node in self.values])\n",
    "        return f'LinkedList[{components}]'\n",
    "    \n",
    "    def __str__(self):\n",
    "        if self.head == None:              # Adding case for empty list\n",
    "            return '[]'\n",
    "        else:\n",
    "            return ' -> '.join([str(node) for node in self.values]) # Added .values to self\n",
    "    \n",
    "    def __len__(self):\n",
    "        count = 0\n",
    "        node = self.head\n",
    "        while node:\n",
    "            count += 1\n",
    "            node = node.next\n",
    "        return count\n",
    "    \n",
    "    def __iter__(self):  # Ideally iter method should be outside the class, but for time restraints I used this implementation\n",
    "        current = self.head\n",
    "        while current:\n",
    "            yield current\n",
    "            current = current.next\n",
    "            \n",
    "    @property\n",
    "    def values(self):\n",
    "        if self.head == None:                             # Adding case for empty list\n",
    "            return print(None)\n",
    "        else:\n",
    "            return [node.value for node in self]\n",
    "        \n",
    "    def __getitem__(self,key): # The source did not have a __getitem__ method\n",
    "        \n",
    "        i = 0\n",
    "        current = self.head\n",
    "        \n",
    "        if len(self) == 0:\n",
    "            raise IndexError(f'{type(self).__name__} key {key} out of range')\n",
    "        \n",
    "        elif isinstance(key,int):\n",
    "            \n",
    "            if key < 0:\n",
    "                key = len(self) + key\n",
    "            \n",
    "            while current:\n",
    "                if i == key:\n",
    "                    return current.value\n",
    "                current = current.next\n",
    "                i += 1\n",
    "                \n",
    "            raise IndexError(f'{type(self).__name__} key {key} out of range')\n",
    "\n",
    "        elif isinstance(key,slice):\n",
    "            #cls = type(self)\n",
    "            components = self.values\n",
    "            compSlice = components[key] \n",
    "            return compSlice"
   ]
  },
  {
   "cell_type": "markdown",
   "id": "87f36306",
   "metadata": {},
   "source": [
    "**(1)** Implement a Python method that returns nodes from the nth index (inclusive) to the last node in a singly linked list."
   ]
  },
  {
   "cell_type": "code",
   "execution_count": 321,
   "id": "4f9ac748",
   "metadata": {},
   "outputs": [],
   "source": [
    "def findNodeToEnd(lnkLs,index):\n",
    "    \"\"\"Input: Non-empty LinkedList and index, an int \n",
    "    Output: Nodes from the nth index (inclusive) to the last node\"\"\"\n",
    "    \n",
    "    assert isinstance(index,int), \"The index must be an integer\"\n",
    "    assert index > -1, \"index must be a positive integer\"\n",
    "    if index >= len(lnkLs): \n",
    "        raise IndexError(\"Index out of range\") \n",
    "    assert len(lnkLs) > 0, \"The linked list has no nodes in it\"\n",
    "    \n",
    "    i = 0\n",
    "    node = lnkLs.head\n",
    "    nodeList = []\n",
    "    \n",
    "    while node:\n",
    "        if i < index:\n",
    "            i += 1\n",
    "            node = node.next\n",
    "        else:\n",
    "            nodeList.append(node)\n",
    "            i += 1\n",
    "            node = node.next\n",
    "    \n",
    "    return ' -> '.join(['Node('+str(node.value)+')' for node in nodeList])"
   ]
  },
  {
   "cell_type": "code",
   "execution_count": 322,
   "id": "1433f08e",
   "metadata": {},
   "outputs": [
    {
     "data": {
      "text/plain": [
       "LinkedList[0 -> 1 -> 2 -> 3 -> 4 -> 5 -> 6 -> 7 -> 8 -> 9]"
      ]
     },
     "execution_count": 322,
     "metadata": {},
     "output_type": "execute_result"
    }
   ],
   "source": [
    "a = LinkedList(0,1,2,3,4,5,6,7,8,9)\n",
    "a"
   ]
  },
  {
   "cell_type": "code",
   "execution_count": 323,
   "id": "23f67f70",
   "metadata": {},
   "outputs": [
    {
     "data": {
      "text/plain": [
       "'Node(6) -> Node(7) -> Node(8) -> Node(9)'"
      ]
     },
     "execution_count": 323,
     "metadata": {},
     "output_type": "execute_result"
    }
   ],
   "source": [
    "findNodeToEnd(a,6)"
   ]
  },
  {
   "cell_type": "markdown",
   "id": "46588ba7",
   "metadata": {},
   "source": [
    "**(2)** Develop a Python method that removes duplicates from an unsorted singly linked list."
   ]
  },
  {
   "cell_type": "code",
   "execution_count": 429,
   "id": "0c4c58cb",
   "metadata": {},
   "outputs": [],
   "source": [
    "def removeDuplicates(lnkLs):\n",
    "    \"\"\"Input: Non-empty LinkedList \n",
    "    Output: The same linked list with no duplicate node values\"\"\"\n",
    "    \n",
    "    assert len(lnkLs) > 0, \"The linked list has no nodes in it\"\n",
    "    \n",
    "    node = lnkLs.head\n",
    "    nextNode = node.next\n",
    "    nodeValList = [node.value]\n",
    "    \n",
    "    while nextNode:\n",
    "        if nextNode.value not in nodeValList:\n",
    "            nodeValList.append(nextNode.value)\n",
    "            node = node.next\n",
    "            if nextNode.next == None:\n",
    "                break\n",
    "            else:\n",
    "                nextNode = nextNode.next\n",
    "        else:\n",
    "            try:\n",
    "                node.next = nextNode.next\n",
    "            except:\n",
    "                break\n",
    "            try:\n",
    "                nextNode = node.next\n",
    "            except:\n",
    "                break\n",
    "    \n",
    "    return lnkLs"
   ]
  },
  {
   "cell_type": "code",
   "execution_count": 430,
   "id": "3a96fa7c",
   "metadata": {},
   "outputs": [
    {
     "data": {
      "text/plain": [
       "LinkedList[0 -> 1 -> 2 -> 3 -> 4 -> 5 -> 6 -> 7 -> 8 -> 9]"
      ]
     },
     "execution_count": 430,
     "metadata": {},
     "output_type": "execute_result"
    }
   ],
   "source": [
    "# No duplicates\n",
    "a = LinkedList(0,1,2,3,4,5,6,7,8,9)\n",
    "a"
   ]
  },
  {
   "cell_type": "code",
   "execution_count": 431,
   "id": "fc912557",
   "metadata": {},
   "outputs": [
    {
     "data": {
      "text/plain": [
       "LinkedList[0 -> 1 -> 2 -> 3 -> 4 -> 5 -> 6 -> 7 -> 8 -> 9]"
      ]
     },
     "execution_count": 431,
     "metadata": {},
     "output_type": "execute_result"
    }
   ],
   "source": [
    "removeDuplicates(a)\n",
    "a"
   ]
  },
  {
   "cell_type": "code",
   "execution_count": 432,
   "id": "221bea63",
   "metadata": {},
   "outputs": [
    {
     "data": {
      "text/plain": [
       "LinkedList[0 -> 1 -> 2 -> 3 -> 3 -> 4 -> 5 -> 6 -> 7 -> 8 -> 9]"
      ]
     },
     "execution_count": 432,
     "metadata": {},
     "output_type": "execute_result"
    }
   ],
   "source": [
    "# Duplicate in the middle\n",
    "b = LinkedList(0,1,2,3,3,4,5,6,7,8,9)\n",
    "b"
   ]
  },
  {
   "cell_type": "code",
   "execution_count": 433,
   "id": "46399642",
   "metadata": {},
   "outputs": [
    {
     "data": {
      "text/plain": [
       "LinkedList[0 -> 1 -> 2 -> 3 -> 4 -> 5 -> 6 -> 7 -> 8 -> 9]"
      ]
     },
     "execution_count": 433,
     "metadata": {},
     "output_type": "execute_result"
    }
   ],
   "source": [
    "removeDuplicates(b)\n",
    "b"
   ]
  },
  {
   "cell_type": "code",
   "execution_count": 434,
   "id": "5ff07eb9",
   "metadata": {},
   "outputs": [
    {
     "data": {
      "text/plain": [
       "LinkedList[0 -> 1 -> 2 -> 3 -> 4 -> 5 -> 6 -> 7 -> 8 -> 9 -> 9]"
      ]
     },
     "execution_count": 434,
     "metadata": {},
     "output_type": "execute_result"
    }
   ],
   "source": [
    "# Duplicate at the tail\n",
    "c = LinkedList(0,1,2,3,4,5,6,7,8,9,9)\n",
    "c"
   ]
  },
  {
   "cell_type": "code",
   "execution_count": 435,
   "id": "3b0605d1",
   "metadata": {},
   "outputs": [
    {
     "data": {
      "text/plain": [
       "LinkedList[0 -> 1 -> 2 -> 3 -> 4 -> 5 -> 6 -> 7 -> 8 -> 9]"
      ]
     },
     "execution_count": 435,
     "metadata": {},
     "output_type": "execute_result"
    }
   ],
   "source": [
    "removeDuplicates(c)\n",
    "c"
   ]
  },
  {
   "cell_type": "code",
   "execution_count": 436,
   "id": "48c283fc",
   "metadata": {},
   "outputs": [
    {
     "data": {
      "text/plain": [
       "LinkedList[0 -> 0 -> 1 -> 2 -> 3 -> 4 -> 5 -> 6 -> 7 -> 8 -> 9]"
      ]
     },
     "execution_count": 436,
     "metadata": {},
     "output_type": "execute_result"
    }
   ],
   "source": [
    "# Duplicate in the head\n",
    "d = LinkedList(0,0,1,2,3,4,5,6,7,8,9)\n",
    "d"
   ]
  },
  {
   "cell_type": "code",
   "execution_count": 437,
   "id": "77cb032e",
   "metadata": {},
   "outputs": [
    {
     "data": {
      "text/plain": [
       "LinkedList[0 -> 1 -> 2 -> 3 -> 4 -> 5 -> 6 -> 7 -> 8 -> 9]"
      ]
     },
     "execution_count": 437,
     "metadata": {},
     "output_type": "execute_result"
    }
   ],
   "source": [
    "removeDuplicates(d)\n",
    "d"
   ]
  },
  {
   "cell_type": "code",
   "execution_count": 438,
   "id": "b7beec2d",
   "metadata": {},
   "outputs": [
    {
     "data": {
      "text/plain": [
       "LinkedList[0 -> 1 -> 2 -> 3 -> 4 -> 3 -> 5 -> 6 -> 3 -> 7 -> 8 -> 9]"
      ]
     },
     "execution_count": 438,
     "metadata": {},
     "output_type": "execute_result"
    }
   ],
   "source": [
    "# Two duplicates version 1\n",
    "e = LinkedList(0,1,2,3,4,3,5,6,3,7,8,9)\n",
    "e"
   ]
  },
  {
   "cell_type": "code",
   "execution_count": 439,
   "id": "f4199ebe",
   "metadata": {},
   "outputs": [
    {
     "data": {
      "text/plain": [
       "LinkedList[0 -> 1 -> 2 -> 3 -> 4 -> 5 -> 6 -> 7 -> 8 -> 9]"
      ]
     },
     "execution_count": 439,
     "metadata": {},
     "output_type": "execute_result"
    }
   ],
   "source": [
    "removeDuplicates(e)\n",
    "e"
   ]
  },
  {
   "cell_type": "code",
   "execution_count": 440,
   "id": "90e8bc1f",
   "metadata": {},
   "outputs": [
    {
     "data": {
      "text/plain": [
       "LinkedList[0 -> 1 -> 2 -> 3 -> 9 -> 4 -> 5 -> 9 -> 9 -> 9 -> 9 -> 6 -> 7 -> 8 -> 10]"
      ]
     },
     "execution_count": 440,
     "metadata": {},
     "output_type": "execute_result"
    }
   ],
   "source": [
    "# Duplicates version 2\n",
    "f = LinkedList(0,1,2,3,9,4,5,9,9,9,9,6,7,8,10)\n",
    "f"
   ]
  },
  {
   "cell_type": "code",
   "execution_count": 441,
   "id": "62291174",
   "metadata": {},
   "outputs": [
    {
     "data": {
      "text/plain": [
       "LinkedList[0 -> 1 -> 2 -> 3 -> 9 -> 4 -> 5 -> 6 -> 7 -> 8 -> 10]"
      ]
     },
     "execution_count": 441,
     "metadata": {},
     "output_type": "execute_result"
    }
   ],
   "source": [
    "removeDuplicates(f)\n",
    "f"
   ]
  },
  {
   "cell_type": "code",
   "execution_count": 442,
   "id": "a25827eb",
   "metadata": {},
   "outputs": [
    {
     "data": {
      "text/plain": [
       "LinkedList[9 -> 9 -> 0 -> 1 -> 2 -> 3 -> 9 -> 4 -> 5 -> 9 -> 9 -> 9 -> 9 -> 6 -> 7 -> 8 -> 9 -> 9]"
      ]
     },
     "execution_count": 442,
     "metadata": {},
     "output_type": "execute_result"
    }
   ],
   "source": [
    "# Duplicates version 3\n",
    "g = LinkedList(9,9,0,1,2,3,9,4,5,9,9,9,9,6,7,8,9,9)\n",
    "g"
   ]
  },
  {
   "cell_type": "code",
   "execution_count": 443,
   "id": "d6c6ac8e",
   "metadata": {},
   "outputs": [
    {
     "data": {
      "text/plain": [
       "LinkedList[9 -> 0 -> 1 -> 2 -> 3 -> 4 -> 5 -> 6 -> 7 -> 8]"
      ]
     },
     "execution_count": 443,
     "metadata": {},
     "output_type": "execute_result"
    }
   ],
   "source": [
    "removeDuplicates(g)\n",
    "g"
   ]
  },
  {
   "cell_type": "code",
   "execution_count": 444,
   "id": "c50a9a4e",
   "metadata": {},
   "outputs": [
    {
     "data": {
      "text/plain": [
       "LinkedList[0 -> 9 -> 9 -> 0 -> 2 -> 1 -> 2 -> 3 -> 4 -> 4 -> 9 -> 4 -> 5 -> 9 -> 9 -> 9 -> 9 -> 6 -> 0 -> 7 -> 8 -> 9 -> 9]"
      ]
     },
     "execution_count": 444,
     "metadata": {},
     "output_type": "execute_result"
    }
   ],
   "source": [
    "# Duplicates version 4\n",
    "h = LinkedList(0,9,9,0,2,1,2,3,4,4,9,4,5,9,9,9,9,6,0,7,8,9,9)\n",
    "h"
   ]
  },
  {
   "cell_type": "code",
   "execution_count": 445,
   "id": "4892dcda",
   "metadata": {},
   "outputs": [
    {
     "data": {
      "text/plain": [
       "LinkedList[0 -> 9 -> 2 -> 1 -> 3 -> 4 -> 5 -> 6 -> 7 -> 8]"
      ]
     },
     "execution_count": 445,
     "metadata": {},
     "output_type": "execute_result"
    }
   ],
   "source": [
    "removeDuplicates(h)\n",
    "h"
   ]
  },
  {
   "cell_type": "markdown",
   "id": "5af56846",
   "metadata": {},
   "source": [
    "**(3)** Write a Python program that determines if two given singly linked lists intersect. <br>\n",
    "\n",
    "Extra point: return the intersection node(s) (order of elements in output list does not matter). For instance, given:\n",
    "\n",
    "* linked list 1: 10 ->15 ->4 ->20 ->null and,\n",
    "* linked list 2: 4->8 ->2 ->10 ->null, \n",
    "\n",
    "the intersecting nodes are 4->10->null."
   ]
  },
  {
   "cell_type": "code",
   "execution_count": 450,
   "id": "1cc36892",
   "metadata": {},
   "outputs": [],
   "source": [
    "def intersection(lnkLs1,lnkLs2):\n",
    "    \"\"\"Input: Two non-empty LinkedList objects \n",
    "    Output: Prints True if both linked lists intersect. Returns the intersection nodes\"\"\"\n",
    "    \n",
    "    assert len(lnkLs1) > 0, \"One of the linked lists has no nodes in it\"\n",
    "    assert len(lnkLs2) > 0, \"One of the linked lists has no nodes in it\"\n",
    "    \n",
    "    valuesToTrack = []\n",
    "    intersectingNodes = []\n",
    "    \n",
    "    node1 = lnkLs1.head\n",
    "    \n",
    "    while node1:\n",
    "        if node1.value not in valuesToTrack:\n",
    "            valuesToTrack.append(node1.value)\n",
    "        node1 = node1.next\n",
    "        \n",
    "    node2 = lnkLs2.head\n",
    "    \n",
    "    while node2:\n",
    "        if node2.value in valuesToTrack:\n",
    "            intersectingNodes.append(node2.value)\n",
    "        node2 = node2.next\n",
    "        \n",
    "    if len(intersectingNodes) == 0:\n",
    "        print(False)\n",
    "        return LinkedList()\n",
    "    elif len(intersectingNodes) > 0:\n",
    "        print(True)\n",
    "    \n",
    "    intersectList = LinkedList()\n",
    "    \n",
    "    for value in intersectingNodes: # Replaced add_multiple_values with the for loop\n",
    "        intersectList.add_node(value)\n",
    "        \n",
    "    return intersectList"
   ]
  },
  {
   "cell_type": "markdown",
   "id": "147175bd",
   "metadata": {},
   "source": [
    "**[Ric wrote]:** Given that all lists will intersect in null I am writing a program with intersecting nodes other than None"
   ]
  },
  {
   "cell_type": "code",
   "execution_count": 451,
   "id": "daf70d4e",
   "metadata": {},
   "outputs": [],
   "source": [
    "a = LinkedList(1,2,3,4,5,6,7,8,9,0)\n",
    "b = LinkedList(11,12,13,14,15,16,17,18,19,20)\n",
    "c = LinkedList(11,2,13,4,15,6,17,8,19,0)"
   ]
  },
  {
   "cell_type": "code",
   "execution_count": 452,
   "id": "650cace5",
   "metadata": {},
   "outputs": [
    {
     "name": "stdout",
     "output_type": "stream",
     "text": [
      "False\n"
     ]
    },
    {
     "data": {
      "text/plain": [
       "LinkedList[]"
      ]
     },
     "execution_count": 452,
     "metadata": {},
     "output_type": "execute_result"
    }
   ],
   "source": [
    "intersection(a,b)"
   ]
  },
  {
   "cell_type": "code",
   "execution_count": 453,
   "id": "9167899b",
   "metadata": {},
   "outputs": [
    {
     "name": "stdout",
     "output_type": "stream",
     "text": [
      "True\n"
     ]
    },
    {
     "data": {
      "text/plain": [
       "LinkedList[2 -> 4 -> 6 -> 8 -> 0]"
      ]
     },
     "execution_count": 453,
     "metadata": {},
     "output_type": "execute_result"
    }
   ],
   "source": [
    "intersection(a,c)"
   ]
  },
  {
   "cell_type": "code",
   "execution_count": 454,
   "id": "bfda167a",
   "metadata": {},
   "outputs": [
    {
     "name": "stdout",
     "output_type": "stream",
     "text": [
      "True\n"
     ]
    },
    {
     "data": {
      "text/plain": [
       "LinkedList[11 -> 13 -> 15 -> 17 -> 19]"
      ]
     },
     "execution_count": 454,
     "metadata": {},
     "output_type": "execute_result"
    }
   ],
   "source": [
    "intersection(b,c)"
   ]
  },
  {
   "cell_type": "markdown",
   "id": "f11f3065",
   "metadata": {},
   "source": [
    "**(4)** Implement a Python method, which when given a singly linked list, returns it in reversed order."
   ]
  },
  {
   "cell_type": "code",
   "execution_count": 462,
   "id": "70b9d12c",
   "metadata": {},
   "outputs": [],
   "source": [
    "def reversedLinkedList(lnkLs):\n",
    "    \"\"\"Input: Non-empty LinkedList \n",
    "    Output: The same linked list with reversed nodes\"\"\"\n",
    "    \n",
    "    assert len(lnkLs) > 0, \"One of the linked lists has no nodes in it\"\n",
    "    \n",
    "    headNode = lnkLs.head\n",
    "    tailNode = lnkLs.tail\n",
    "    \n",
    "    nodesList = []\n",
    "    currentNode = lnkLs.head\n",
    "    \n",
    "    while currentNode:\n",
    "        nodesList.append(currentNode)\n",
    "        currentNode = currentNode.next\n",
    "    \n",
    "    nodesList[0].next = None\n",
    "    \n",
    "    for i in range(1,len(nodesList)):\n",
    "        nodesList[i].next = nodesList[i-1] \n",
    "    \n",
    "    lnkLs.head = tailNode\n",
    "    lnkLs.tail = headNode\n",
    "    \n",
    "    return lnkLs"
   ]
  },
  {
   "cell_type": "markdown",
   "id": "2f179d1b",
   "metadata": {},
   "source": [
    "**[Ric wrote]:** Since it is not clear if it is simply returning the reversed list or modifying in place I chose modifying the list in place, I thought it would be more related with the material we saw in class."
   ]
  },
  {
   "cell_type": "code",
   "execution_count": 464,
   "id": "f074c2ca",
   "metadata": {},
   "outputs": [
    {
     "data": {
      "text/plain": [
       "LinkedList[1 -> 2 -> 3 -> 4 -> 5 -> 6 -> 7 -> 8 -> 9 -> 0]"
      ]
     },
     "execution_count": 464,
     "metadata": {},
     "output_type": "execute_result"
    }
   ],
   "source": [
    "a = LinkedList(1,2,3,4,5,6,7,8,9,0)\n",
    "a"
   ]
  },
  {
   "cell_type": "code",
   "execution_count": 465,
   "id": "47adcaf5",
   "metadata": {},
   "outputs": [
    {
     "data": {
      "text/plain": [
       "LinkedList[0 -> 9 -> 8 -> 7 -> 6 -> 5 -> 4 -> 3 -> 2 -> 1]"
      ]
     },
     "execution_count": 465,
     "metadata": {},
     "output_type": "execute_result"
    }
   ],
   "source": [
    "reversedLinkedList(a)"
   ]
  },
  {
   "cell_type": "code",
   "execution_count": 466,
   "id": "cfaf758f",
   "metadata": {},
   "outputs": [
    {
     "data": {
      "text/plain": [
       "LinkedList[0 -> 9 -> 8 -> 7 -> 6 -> 5 -> 4 -> 3 -> 2 -> 1]"
      ]
     },
     "execution_count": 466,
     "metadata": {},
     "output_type": "execute_result"
    }
   ],
   "source": [
    "a"
   ]
  },
  {
   "cell_type": "code",
   "execution_count": null,
   "id": "57769d15",
   "metadata": {},
   "outputs": [],
   "source": []
  },
  {
   "cell_type": "code",
   "execution_count": null,
   "id": "63e11186",
   "metadata": {},
   "outputs": [],
   "source": []
  },
  {
   "cell_type": "code",
   "execution_count": null,
   "id": "66f0fe04",
   "metadata": {},
   "outputs": [],
   "source": []
  },
  {
   "cell_type": "code",
   "execution_count": null,
   "id": "4bd82e86",
   "metadata": {},
   "outputs": [],
   "source": []
  },
  {
   "cell_type": "code",
   "execution_count": null,
   "id": "366a390c",
   "metadata": {},
   "outputs": [],
   "source": []
  },
  {
   "cell_type": "code",
   "execution_count": null,
   "id": "289dce98",
   "metadata": {},
   "outputs": [],
   "source": []
  },
  {
   "cell_type": "code",
   "execution_count": null,
   "id": "d9410307",
   "metadata": {},
   "outputs": [],
   "source": []
  },
  {
   "cell_type": "code",
   "execution_count": null,
   "id": "d8aada77",
   "metadata": {},
   "outputs": [],
   "source": []
  },
  {
   "cell_type": "code",
   "execution_count": null,
   "id": "b1badc0b",
   "metadata": {},
   "outputs": [],
   "source": []
  },
  {
   "cell_type": "code",
   "execution_count": null,
   "id": "ec036402",
   "metadata": {},
   "outputs": [],
   "source": []
  },
  {
   "cell_type": "code",
   "execution_count": null,
   "id": "1e2cb7e5",
   "metadata": {},
   "outputs": [],
   "source": []
  },
  {
   "cell_type": "code",
   "execution_count": null,
   "id": "c0875b9f",
   "metadata": {},
   "outputs": [],
   "source": []
  },
  {
   "cell_type": "code",
   "execution_count": null,
   "id": "f6958093",
   "metadata": {},
   "outputs": [],
   "source": []
  },
  {
   "cell_type": "code",
   "execution_count": null,
   "id": "e8ffbec0",
   "metadata": {},
   "outputs": [],
   "source": []
  },
  {
   "cell_type": "code",
   "execution_count": null,
   "id": "6889de0a",
   "metadata": {},
   "outputs": [],
   "source": []
  },
  {
   "cell_type": "code",
   "execution_count": null,
   "id": "526fb015",
   "metadata": {},
   "outputs": [],
   "source": []
  },
  {
   "cell_type": "code",
   "execution_count": null,
   "id": "dd9b53ab",
   "metadata": {},
   "outputs": [],
   "source": []
  },
  {
   "cell_type": "code",
   "execution_count": null,
   "id": "1d641474",
   "metadata": {},
   "outputs": [],
   "source": []
  },
  {
   "cell_type": "code",
   "execution_count": null,
   "id": "9127e6e5",
   "metadata": {},
   "outputs": [],
   "source": []
  },
  {
   "cell_type": "code",
   "execution_count": null,
   "id": "a7bb0d55",
   "metadata": {},
   "outputs": [],
   "source": []
  },
  {
   "cell_type": "code",
   "execution_count": null,
   "id": "2d709392",
   "metadata": {},
   "outputs": [],
   "source": []
  },
  {
   "cell_type": "code",
   "execution_count": null,
   "id": "72da4ce3",
   "metadata": {},
   "outputs": [],
   "source": []
  },
  {
   "cell_type": "code",
   "execution_count": null,
   "id": "14cfbf4e",
   "metadata": {},
   "outputs": [],
   "source": []
  }
 ],
 "metadata": {
  "kernelspec": {
   "display_name": "Python 3 (ipykernel)",
   "language": "python",
   "name": "python3"
  },
  "language_info": {
   "codemirror_mode": {
    "name": "ipython",
    "version": 3
   },
   "file_extension": ".py",
   "mimetype": "text/x-python",
   "name": "python",
   "nbconvert_exporter": "python",
   "pygments_lexer": "ipython3",
   "version": "3.11.4"
  }
 },
 "nbformat": 4,
 "nbformat_minor": 5
}
