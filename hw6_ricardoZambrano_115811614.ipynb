{
 "cells": [
  {
   "cell_type": "code",
   "execution_count": 1,
   "id": "2f208809",
   "metadata": {},
   "outputs": [],
   "source": [
    "# Reusing the linked list class\n",
    "\n",
    "class Node:\n",
    "    \"\"\"Creates a linked list node class\"\"\"\n",
    "    \n",
    "    def __init__(self, value, next_node=None):#, prev_node=None): # Removing the last argument \n",
    "                                                                  # because we need a singly linked lst\n",
    "        self.value = value\n",
    "        self.next = next_node\n",
    "        #self.prev = prev_node # This statement is not required for a single linked list\n",
    "\n",
    "    def __str__(self):\n",
    "        return str(self.value)\n",
    "    \n",
    "    def __repr__(self):             # Adding a __repr__ method\n",
    "        return f'Node({self.value})'\n",
    "    \n",
    "class LinkedList:\n",
    "    \"\"\"Creates a linked list\"\"\"\n",
    "    \n",
    "    def __init__(self, *values): # Deleting values=None and adding * in front\n",
    "        if not values:           # Adding this line of code to handle empty *values and identing next two lines\n",
    "            self.head = None\n",
    "            self.tail = None\n",
    "        else:                    # Changing if for else. Original line: if values is not None\n",
    "            self.head = None\n",
    "            self.tail = None\n",
    "            for value in values: # Replaced add_multiple_values with the for loop\n",
    "                self.add_node(value)\n",
    "            \n",
    "    def add_node(self, value):\n",
    "        if self.head is None:\n",
    "            self.tail = self.head = Node(value)\n",
    "        else:\n",
    "            self.tail.next = Node(value)\n",
    "            self.tail = self.tail.next\n",
    "        return self.tail\n",
    "\n",
    "    def add_multiple_nodes(self, *values): # Adding the * in front of values to accept multiple arguments\n",
    "        for value in values:\n",
    "            self.add_node(value)\n",
    "        \n",
    "    def add_node_as_head(self, value):\n",
    "        if self.head is None:\n",
    "            self.tail = self.head = Node(value)\n",
    "        else:\n",
    "            self.head = Node(value, self.head)\n",
    "        return self.head\n",
    "    \n",
    "    def __repr__(self):                    # Adding a __repr__ method\n",
    "        if self.head == None:\n",
    "            components = \"\"\n",
    "        else:\n",
    "            components = ' -> '.join([str(node) for node in self.values])\n",
    "        return f'LinkedList[{components}]'\n",
    "    \n",
    "    def __str__(self):\n",
    "        if self.head == None:              # Adding case for empty list\n",
    "            return '[]'\n",
    "        else:\n",
    "            return ' -> '.join([str(node) for node in self.values]) # Added .values to self\n",
    "    \n",
    "    def __len__(self):\n",
    "        count = 0\n",
    "        node = self.head\n",
    "        while node:\n",
    "            count += 1\n",
    "            node = node.next\n",
    "        return count\n",
    "    \n",
    "    def __iter__(self):  # Ideally iter method should be outside the class, but for time restraints I used this implementation\n",
    "        current = self.head\n",
    "        while current:\n",
    "            yield current\n",
    "            current = current.next\n",
    "            \n",
    "    @property\n",
    "    def values(self):\n",
    "        if self.head == None:                             # Adding case for empty list\n",
    "            return print(None)\n",
    "        else:\n",
    "            return [node.value for node in self]\n",
    "        \n",
    "    def __getitem__(self,key): # The source did not have a __getitem__ method\n",
    "        \n",
    "        i = 0\n",
    "        current = self.head\n",
    "        \n",
    "        if len(self) == 0:\n",
    "            raise IndexError(f'{type(self).__name__} key {key} out of range')\n",
    "        \n",
    "        elif isinstance(key,int):\n",
    "            \n",
    "            if key < 0:\n",
    "                key = len(self) + key\n",
    "            \n",
    "            while current:\n",
    "                if i == key:\n",
    "                    return current.value\n",
    "                current = current.next\n",
    "                i += 1\n",
    "                \n",
    "            raise IndexError(f'{type(self).__name__} key {key} out of range')\n",
    "\n",
    "        elif isinstance(key,slice):\n",
    "            #cls = type(self)\n",
    "            components = self.values\n",
    "            compSlice = components[key] \n",
    "            return compSlice"
   ]
  },
  {
   "attachments": {},
   "cell_type": "markdown",
   "id": "5617b91e",
   "metadata": {},
   "source": [
    "### Stack –> linked list implementation"
   ]
  },
  {
   "cell_type": "code",
   "execution_count": 73,
   "id": "35295042",
   "metadata": {},
   "outputs": [],
   "source": [
    "class Stack(LinkedList):\n",
    "    \"\"\"Creates a Stack\"\"\"\n",
    "    \n",
    "    def __repr__(self):                    # Overides the __repr__ method\n",
    "        if self.head == None:\n",
    "            components = \"\"\n",
    "        else:\n",
    "            components = ' -> '.join([str(node) for node in self.values])\n",
    "        return f'Stack_Top=>[{components}]'\n",
    "    \n",
    "    def __str__(self):                    # Overides the __str__ method\n",
    "        if self.head == None:              \n",
    "            return '[]'\n",
    "        else:\n",
    "            return 'Stack_Top=>['+' -> '.join([str(node) for node in self.values])+']' \n",
    "    \n",
    "    def push(self,item):                   # the push method leverages the add_node_as_head() from the superclass\n",
    "        self.add_node_as_head(item)\n",
    "        return\n",
    "    \n",
    "    def pop(self):\n",
    "        # Follows the implementation suggested in the slides\n",
    "        \n",
    "        if (self.head == None): \n",
    "            raise Exception('Empty Stack')\n",
    "\n",
    "        item = self.head\n",
    "        self.head = self.head.next\n",
    "        return item.value\n",
    "    \n",
    "    def peek(self) :\n",
    "        # Follows the implementation suggested in the slides\n",
    "        \n",
    "        if (self.head == None):\n",
    "            raise Exception('Empty Stack')\n",
    "        return self.head.value\n",
    "\n",
    "    def isEmpty(self):\n",
    "        if (self.head == None):\n",
    "            return True\n",
    "        else:\n",
    "            return False"
   ]
  },
  {
   "cell_type": "code",
   "execution_count": 74,
   "id": "e55bce49",
   "metadata": {},
   "outputs": [
    {
     "name": "stdout",
     "output_type": "stream",
     "text": [
      "Stack_Top=>[1 -> 2 -> 3 -> 4 -> 5 -> 6 -> 7 -> 8]\n"
     ]
    },
    {
     "data": {
      "text/plain": [
       "Stack_Top=>[1 -> 2 -> 3 -> 4 -> 5 -> 6 -> 7 -> 8]"
      ]
     },
     "execution_count": 74,
     "metadata": {},
     "output_type": "execute_result"
    }
   ],
   "source": [
    "a = Stack(1,2,3,4,5,6,7,8)\n",
    "print(a)\n",
    "a"
   ]
  },
  {
   "cell_type": "code",
   "execution_count": 75,
   "id": "d522637c",
   "metadata": {},
   "outputs": [
    {
     "data": {
      "text/plain": [
       "1"
      ]
     },
     "execution_count": 75,
     "metadata": {},
     "output_type": "execute_result"
    }
   ],
   "source": [
    "a.peek()"
   ]
  },
  {
   "cell_type": "code",
   "execution_count": 76,
   "id": "5f9111df",
   "metadata": {},
   "outputs": [
    {
     "data": {
      "text/plain": [
       "False"
      ]
     },
     "execution_count": 76,
     "metadata": {},
     "output_type": "execute_result"
    }
   ],
   "source": [
    "a.isEmpty()"
   ]
  },
  {
   "cell_type": "code",
   "execution_count": 77,
   "id": "c23c2b0f",
   "metadata": {},
   "outputs": [
    {
     "data": {
      "text/plain": [
       "Stack_Top=>[9 -> 1 -> 2 -> 3 -> 4 -> 5 -> 6 -> 7 -> 8]"
      ]
     },
     "execution_count": 77,
     "metadata": {},
     "output_type": "execute_result"
    }
   ],
   "source": [
    "a.push(9)\n",
    "a"
   ]
  },
  {
   "cell_type": "code",
   "execution_count": 78,
   "id": "5c307284",
   "metadata": {},
   "outputs": [
    {
     "data": {
      "text/plain": [
       "Stack_Top=>[0 -> 9 -> 1 -> 2 -> 3 -> 4 -> 5 -> 6 -> 7 -> 8]"
      ]
     },
     "execution_count": 78,
     "metadata": {},
     "output_type": "execute_result"
    }
   ],
   "source": [
    "a.push(0)\n",
    "a"
   ]
  },
  {
   "cell_type": "code",
   "execution_count": 79,
   "id": "16a68acd",
   "metadata": {},
   "outputs": [
    {
     "data": {
      "text/plain": [
       "0"
      ]
     },
     "execution_count": 79,
     "metadata": {},
     "output_type": "execute_result"
    }
   ],
   "source": [
    "a.pop()"
   ]
  },
  {
   "cell_type": "code",
   "execution_count": 80,
   "id": "b2a7a5c5",
   "metadata": {},
   "outputs": [
    {
     "data": {
      "text/plain": [
       "Stack_Top=>[9 -> 1 -> 2 -> 3 -> 4 -> 5 -> 6 -> 7 -> 8]"
      ]
     },
     "execution_count": 80,
     "metadata": {},
     "output_type": "execute_result"
    }
   ],
   "source": [
    "a"
   ]
  },
  {
   "cell_type": "code",
   "execution_count": 81,
   "id": "dbb03e71",
   "metadata": {},
   "outputs": [
    {
     "data": {
      "text/plain": [
       "9"
      ]
     },
     "execution_count": 81,
     "metadata": {},
     "output_type": "execute_result"
    }
   ],
   "source": [
    "a.pop()"
   ]
  },
  {
   "cell_type": "code",
   "execution_count": 82,
   "id": "b09f1877",
   "metadata": {},
   "outputs": [
    {
     "data": {
      "text/plain": [
       "Stack_Top=>[1 -> 2 -> 3 -> 4 -> 5 -> 6 -> 7 -> 8]"
      ]
     },
     "execution_count": 82,
     "metadata": {},
     "output_type": "execute_result"
    }
   ],
   "source": [
    "a"
   ]
  },
  {
   "cell_type": "code",
   "execution_count": 83,
   "id": "223a9b6d",
   "metadata": {},
   "outputs": [
    {
     "data": {
      "text/plain": [
       "Stack_Top=>[]"
      ]
     },
     "execution_count": 83,
     "metadata": {},
     "output_type": "execute_result"
    }
   ],
   "source": [
    "b = Stack()\n",
    "b"
   ]
  },
  {
   "cell_type": "code",
   "execution_count": 84,
   "id": "330251e3",
   "metadata": {},
   "outputs": [
    {
     "ename": "Exception",
     "evalue": "Empty Stack",
     "output_type": "error",
     "traceback": [
      "\u001b[1;31m---------------------------------------------------------------------------\u001b[0m",
      "\u001b[1;31mException\u001b[0m                                 Traceback (most recent call last)",
      "Cell \u001b[1;32mIn[84], line 1\u001b[0m\n\u001b[1;32m----> 1\u001b[0m \u001b[43mb\u001b[49m\u001b[38;5;241;43m.\u001b[39;49m\u001b[43mpop\u001b[49m\u001b[43m(\u001b[49m\u001b[43m)\u001b[49m\n",
      "Cell \u001b[1;32mIn[73], line 25\u001b[0m, in \u001b[0;36mStack.pop\u001b[1;34m(self)\u001b[0m\n\u001b[0;32m     21\u001b[0m \u001b[38;5;28;01mdef\u001b[39;00m \u001b[38;5;21mpop\u001b[39m(\u001b[38;5;28mself\u001b[39m):\n\u001b[0;32m     22\u001b[0m     \u001b[38;5;66;03m# Follows the implementation suggested in the slides\u001b[39;00m\n\u001b[0;32m     24\u001b[0m     \u001b[38;5;28;01mif\u001b[39;00m (\u001b[38;5;28mself\u001b[39m\u001b[38;5;241m.\u001b[39mhead \u001b[38;5;241m==\u001b[39m \u001b[38;5;28;01mNone\u001b[39;00m): \n\u001b[1;32m---> 25\u001b[0m         \u001b[38;5;28;01mraise\u001b[39;00m \u001b[38;5;167;01mException\u001b[39;00m(\u001b[38;5;124m'\u001b[39m\u001b[38;5;124mEmpty Stack\u001b[39m\u001b[38;5;124m'\u001b[39m)\n\u001b[0;32m     27\u001b[0m     item \u001b[38;5;241m=\u001b[39m \u001b[38;5;28mself\u001b[39m\u001b[38;5;241m.\u001b[39mhead\n\u001b[0;32m     28\u001b[0m     \u001b[38;5;28mself\u001b[39m\u001b[38;5;241m.\u001b[39mhead \u001b[38;5;241m=\u001b[39m \u001b[38;5;28mself\u001b[39m\u001b[38;5;241m.\u001b[39mhead\u001b[38;5;241m.\u001b[39mnext\n",
      "\u001b[1;31mException\u001b[0m: Empty Stack"
     ]
    }
   ],
   "source": [
    "b.pop()"
   ]
  },
  {
   "cell_type": "code",
   "execution_count": 85,
   "id": "55c0533e",
   "metadata": {},
   "outputs": [
    {
     "ename": "Exception",
     "evalue": "Empty Stack",
     "output_type": "error",
     "traceback": [
      "\u001b[1;31m---------------------------------------------------------------------------\u001b[0m",
      "\u001b[1;31mException\u001b[0m                                 Traceback (most recent call last)",
      "Cell \u001b[1;32mIn[85], line 1\u001b[0m\n\u001b[1;32m----> 1\u001b[0m \u001b[43mb\u001b[49m\u001b[38;5;241;43m.\u001b[39;49m\u001b[43mpeek\u001b[49m\u001b[43m(\u001b[49m\u001b[43m)\u001b[49m\n",
      "Cell \u001b[1;32mIn[73], line 35\u001b[0m, in \u001b[0;36mStack.peek\u001b[1;34m(self)\u001b[0m\n\u001b[0;32m     31\u001b[0m \u001b[38;5;28;01mdef\u001b[39;00m \u001b[38;5;21mpeek\u001b[39m(\u001b[38;5;28mself\u001b[39m) :\n\u001b[0;32m     32\u001b[0m     \u001b[38;5;66;03m# Follows the implementation suggested in the slides\u001b[39;00m\n\u001b[0;32m     34\u001b[0m     \u001b[38;5;28;01mif\u001b[39;00m (\u001b[38;5;28mself\u001b[39m\u001b[38;5;241m.\u001b[39mhead \u001b[38;5;241m==\u001b[39m \u001b[38;5;28;01mNone\u001b[39;00m):\n\u001b[1;32m---> 35\u001b[0m         \u001b[38;5;28;01mraise\u001b[39;00m \u001b[38;5;167;01mException\u001b[39;00m(\u001b[38;5;124m'\u001b[39m\u001b[38;5;124mEmpty Stack\u001b[39m\u001b[38;5;124m'\u001b[39m)\n\u001b[0;32m     36\u001b[0m     \u001b[38;5;28;01mreturn\u001b[39;00m \u001b[38;5;28mself\u001b[39m\u001b[38;5;241m.\u001b[39mhead\u001b[38;5;241m.\u001b[39mvalue\n",
      "\u001b[1;31mException\u001b[0m: Empty Stack"
     ]
    }
   ],
   "source": [
    "b.peek()"
   ]
  },
  {
   "cell_type": "code",
   "execution_count": 86,
   "id": "a95fdbd5",
   "metadata": {},
   "outputs": [
    {
     "data": {
      "text/plain": [
       "True"
      ]
     },
     "execution_count": 86,
     "metadata": {},
     "output_type": "execute_result"
    }
   ],
   "source": [
    "b.isEmpty()"
   ]
  },
  {
   "cell_type": "code",
   "execution_count": 87,
   "id": "a948a4b7",
   "metadata": {},
   "outputs": [
    {
     "data": {
      "text/plain": [
       "Stack_Top=>[oneItem]"
      ]
     },
     "execution_count": 87,
     "metadata": {},
     "output_type": "execute_result"
    }
   ],
   "source": [
    "b.push('oneItem')\n",
    "b"
   ]
  },
  {
   "cell_type": "code",
   "execution_count": 88,
   "id": "7e5d2810",
   "metadata": {},
   "outputs": [
    {
     "data": {
      "text/plain": [
       "Stack_Top=>[2 -> oneItem]"
      ]
     },
     "execution_count": 88,
     "metadata": {},
     "output_type": "execute_result"
    }
   ],
   "source": [
    "b.push(2)\n",
    "b"
   ]
  },
  {
   "cell_type": "markdown",
   "id": "c41e8934",
   "metadata": {},
   "source": [
    "**(1)** Develop a Python program that sorts a stack in an ascending order,\n",
    "    i.e., the minimum element is on the top. You are allowed to use an\n",
    "    additional temporary stack to implement this. However, you are not\n",
    "    allowed to use any data structures other than your own Stack\n",
    "    implementation. Include the standard operations such as push, pop,\n",
    "    peek and isEmpty in your program. You may implement the stack using\n",
    "    the list class, LifoQueue class, or dequeue class."
   ]
  },
  {
   "cell_type": "code",
   "execution_count": 93,
   "id": "338b0be5",
   "metadata": {},
   "outputs": [],
   "source": [
    "import random\n",
    "\n",
    "def genRandStack(start,stop,quantity):\n",
    "    \"\"\"Input: a range of integers  that goes from 'start' to 'stop' and a 'quantity' of desired random integers\n",
    "    Output: a stack with the quantity of specified random integers\"\"\"\n",
    "    randList = random.sample(range(start, stop), quantity)\n",
    "    tempStack = Stack()\n",
    "    for item in randList:\n",
    "        tempStack.push(item)\n",
    "    return tempStack"
   ]
  },
  {
   "cell_type": "code",
   "execution_count": 149,
   "id": "99f9e437",
   "metadata": {},
   "outputs": [
    {
     "data": {
      "text/plain": [
       "Stack_Top=>[19 -> 47 -> 36 -> 10 -> 8 -> 21 -> 20 -> 3 -> 28 -> 34 -> 32 -> 38 -> 33 -> 16 -> 42 -> 35 -> 11 -> 37 -> 7 -> 26 -> 14 -> 4 -> 5 -> 29 -> 40]"
      ]
     },
     "execution_count": 149,
     "metadata": {},
     "output_type": "execute_result"
    }
   ],
   "source": [
    "c = genRandStack(1,50,25)\n",
    "c"
   ]
  },
  {
   "cell_type": "code",
   "execution_count": 150,
   "id": "9d9b04cb",
   "metadata": {},
   "outputs": [],
   "source": [
    "def sortStack (stack):\n",
    "    \"\"\"Input: a stack of class Stack()\n",
    "    Output: the stack sorted in an ascending order\"\"\"\n",
    "    \n",
    "    aux = Stack()\n",
    "    \n",
    "    while(stack.isEmpty() == False):\n",
    "         \n",
    "        currItem = stack.peek()\n",
    "        stack.pop()\n",
    " \n",
    "        while(aux.isEmpty() == False and\n",
    "             int(aux.peek()) < int(currItem)):\n",
    "             \n",
    "            stack.push(aux.peek())\n",
    "            aux.pop()\n",
    " \n",
    "        aux.push(currItem)\n",
    "    \n",
    "#         print(\"============\")\n",
    "#         print(stack)\n",
    "#         print(aux)\n",
    "#         print(\"============\")\n",
    "        \n",
    "    return aux"
   ]
  },
  {
   "cell_type": "code",
   "execution_count": 151,
   "id": "8f0f2e15",
   "metadata": {},
   "outputs": [
    {
     "name": "stdout",
     "output_type": "stream",
     "text": [
      "Stack_Top=>[19 -> 47 -> 36 -> 10 -> 8 -> 21 -> 20 -> 3 -> 28 -> 34 -> 32 -> 38 -> 33 -> 16 -> 42 -> 35 -> 11 -> 37 -> 7 -> 26 -> 14 -> 4 -> 5 -> 29 -> 40]\n"
     ]
    },
    {
     "data": {
      "text/plain": [
       "Stack_Top=>[3 -> 4 -> 5 -> 7 -> 8 -> 10 -> 11 -> 14 -> 16 -> 19 -> 20 -> 21 -> 26 -> 28 -> 29 -> 32 -> 33 -> 34 -> 35 -> 36 -> 37 -> 38 -> 40 -> 42 -> 47]"
      ]
     },
     "execution_count": 151,
     "metadata": {},
     "output_type": "execute_result"
    }
   ],
   "source": [
    "print(c)\n",
    "#print(\"Algorith Start\")\n",
    "sortStack(c)"
   ]
  },
  {
   "cell_type": "markdown",
   "id": "09ba421e",
   "metadata": {},
   "source": [
    "**(2)** Given a stack (of integers), implement a method that reverses the\n",
    "    order of items and returns it in a new stack. You must not use any\n",
    "    class other than your own Stack implementation that has a standard\n",
    "    set of operations such as push, pop, peek and isEmpty."
   ]
  },
  {
   "cell_type": "code",
   "execution_count": 183,
   "id": "0e83ad79",
   "metadata": {},
   "outputs": [],
   "source": [
    "def reverseStack(stack):\n",
    "    \"\"\"Input: a stack of class Stack()\n",
    "    Output: a new stack in reversed order\"\"\"\n",
    "    \n",
    "    vals = stack.values\n",
    "    vals = list(reversed(vals))\n",
    "    tmp_stack = Stack()\n",
    "    \n",
    "    for val in vals:\n",
    "        tmp_stack.push(val)\n",
    "        \n",
    "    aux = Stack()\n",
    "    \n",
    "    while(tmp_stack.isEmpty() == False):\n",
    "         \n",
    "        currItem = tmp_stack.pop()\n",
    "        aux.push(currItem)\n",
    "    \n",
    "    return aux"
   ]
  },
  {
   "cell_type": "code",
   "execution_count": 184,
   "id": "e375235e",
   "metadata": {},
   "outputs": [
    {
     "data": {
      "text/plain": [
       "Stack_Top=>[16 -> 38 -> 24 -> 37 -> 28 -> 18 -> 20 -> 1 -> 39 -> 17 -> 34 -> 36 -> 10 -> 12 -> 29 -> 22 -> 30 -> 32 -> 49 -> 7 -> 21 -> 46 -> 42 -> 6 -> 23]"
      ]
     },
     "execution_count": 184,
     "metadata": {},
     "output_type": "execute_result"
    }
   ],
   "source": [
    "d = genRandStack(1,50,25)\n",
    "d"
   ]
  },
  {
   "cell_type": "code",
   "execution_count": 185,
   "id": "986c55a4",
   "metadata": {},
   "outputs": [
    {
     "data": {
      "text/plain": [
       "Stack_Top=>[23 -> 6 -> 42 -> 46 -> 21 -> 7 -> 49 -> 32 -> 30 -> 22 -> 29 -> 12 -> 10 -> 36 -> 34 -> 17 -> 39 -> 1 -> 20 -> 18 -> 28 -> 37 -> 24 -> 38 -> 16]"
      ]
     },
     "execution_count": 185,
     "metadata": {},
     "output_type": "execute_result"
    }
   ],
   "source": [
    "e = reverseStack(d)\n",
    "e"
   ]
  },
  {
   "cell_type": "code",
   "execution_count": 186,
   "id": "67bba338",
   "metadata": {},
   "outputs": [
    {
     "data": {
      "text/plain": [
       "Stack_Top=>[16 -> 38 -> 24 -> 37 -> 28 -> 18 -> 20 -> 1 -> 39 -> 17 -> 34 -> 36 -> 10 -> 12 -> 29 -> 22 -> 30 -> 32 -> 49 -> 7 -> 21 -> 46 -> 42 -> 6 -> 23]"
      ]
     },
     "execution_count": 186,
     "metadata": {},
     "output_type": "execute_result"
    }
   ],
   "source": [
    "d"
   ]
  },
  {
   "cell_type": "code",
   "execution_count": null,
   "id": "6ca706aa",
   "metadata": {},
   "outputs": [],
   "source": []
  },
  {
   "cell_type": "code",
   "execution_count": null,
   "id": "92bacd00",
   "metadata": {},
   "outputs": [],
   "source": []
  },
  {
   "cell_type": "code",
   "execution_count": null,
   "id": "2541ae31",
   "metadata": {},
   "outputs": [],
   "source": []
  },
  {
   "cell_type": "code",
   "execution_count": null,
   "id": "3956be9b",
   "metadata": {},
   "outputs": [],
   "source": []
  },
  {
   "cell_type": "code",
   "execution_count": null,
   "id": "e9a01f0a",
   "metadata": {},
   "outputs": [],
   "source": []
  },
  {
   "cell_type": "code",
   "execution_count": null,
   "id": "066d6dac",
   "metadata": {},
   "outputs": [],
   "source": []
  },
  {
   "cell_type": "code",
   "execution_count": null,
   "id": "32962250",
   "metadata": {},
   "outputs": [],
   "source": []
  },
  {
   "cell_type": "code",
   "execution_count": null,
   "id": "7e39e892",
   "metadata": {},
   "outputs": [],
   "source": []
  }
 ],
 "metadata": {
  "kernelspec": {
   "display_name": "Python 3 (ipykernel)",
   "language": "python",
   "name": "python3"
  },
  "language_info": {
   "codemirror_mode": {
    "name": "ipython",
    "version": 3
   },
   "file_extension": ".py",
   "mimetype": "text/x-python",
   "name": "python",
   "nbconvert_exporter": "python",
   "pygments_lexer": "ipython3",
   "version": "3.11.4"
  }
 },
 "nbformat": 4,
 "nbformat_minor": 5
}
