{
 "cells": [
  {
   "cell_type": "markdown",
   "id": "9853dc1e",
   "metadata": {},
   "source": [
    "**(1)** Given a rotated array of integers, implement a Python program that finds an\n",
    "    element using binary search. As an example of a rotated array\n",
    "    A = {4, 5, 6, 1, 2, 3}, index of element 2 is 4. Submit both the Python code\n",
    "    and a screenshot of its results. <br>\n",
    "    \n",
    "*Tip: You will first need to find the cutline, i.e. index of an element which\n",
    "         is index 0 in the original sorted array. The cutline of A is 3.*"
   ]
  },
  {
   "cell_type": "code",
   "execution_count": 1,
   "id": "1b14e702",
   "metadata": {},
   "outputs": [],
   "source": [
    "import numpy as np"
   ]
  },
  {
   "cell_type": "markdown",
   "id": "fe6e4524",
   "metadata": {},
   "source": [
    "**[Ric wrote]:** Given that the list may be rotated at any point and that the rotated list is neither in ascending or descending order, I will use lianear search to find the cutline index. In this case the cutline would be the integer with the smaller value."
   ]
  },
  {
   "cell_type": "code",
   "execution_count": 174,
   "id": "517f4f81",
   "metadata": {},
   "outputs": [],
   "source": [
    "def findCutline(arr):\n",
    "    \"\"\"Input: A rotated array\n",
    "    Output: the index of the cutline\"\"\"\n",
    "    \n",
    "    if isinstance(arr,list) or isinstance(arr,tuple):\n",
    "        array = np.array(arr)\n",
    "    elif isinstance(a,np.ndarray):\n",
    "        array = np.copy(arr)\n",
    "    else:\n",
    "        raise ValueError(\"The input has to be either numpy array, list, or tuple\")\n",
    "    \n",
    "    minVal = array[0]\n",
    "    cutlineIndex = 0\n",
    "    \n",
    "    for indx,val in enumerate(arr):\n",
    "        if val < minVal:\n",
    "            minVal = val\n",
    "            cutlineIndex = indx\n",
    "    \n",
    "    return cutlineIndex"
   ]
  },
  {
   "cell_type": "code",
   "execution_count": 175,
   "id": "13d227a4",
   "metadata": {},
   "outputs": [
    {
     "data": {
      "text/plain": [
       "4"
      ]
     },
     "execution_count": 175,
     "metadata": {},
     "output_type": "execute_result"
    }
   ],
   "source": [
    "a = np.array([7,8,9,10,1,2,3,4,5,6])\n",
    "findCutline(a)"
   ]
  },
  {
   "cell_type": "markdown",
   "id": "ec50951c",
   "metadata": {},
   "source": [
    "**[Ric wrote]:** With the auxiliary function to find the cutline index I can write the binary search function."
   ]
  },
  {
   "cell_type": "code",
   "execution_count": 176,
   "id": "28595531",
   "metadata": {},
   "outputs": [],
   "source": [
    "def findElement(arr,e):\n",
    "    \"\"\"Input: a rotated numpy array and an element to search, an integer value\n",
    "    Output: The index of the element in the array\"\"\"\n",
    "    \n",
    "    def bSearch(arr,e,low,high):\n",
    "        if high == low:\n",
    "            if arr[low] == e:\n",
    "                return low\n",
    "            else:\n",
    "                return print(\"The element is not in the array\")\n",
    "        \n",
    "        mid = (low+high)//2\n",
    "        \n",
    "        if arr[mid] == e:\n",
    "            return mid\n",
    "        elif arr[mid] > e:\n",
    "            if low == mid: # the element is not in the array\n",
    "                return print(\"The element is not in the array\")\n",
    "            else:\n",
    "                return bSearch(arr,e,low,mid-1)\n",
    "        else:\n",
    "            return bSearch(arr,e,mid+1,high)\n",
    "        \n",
    "    if len(arr) == 0:\n",
    "        raise ValueError(\"Cannot search element in an empty array\")\n",
    "    \n",
    "    indx = findCutline(arr)\n",
    "    \n",
    "    if indx == 0: # The array was not rotated after all\n",
    "        return bSearch(arr,e,0,len(arr)-1)\n",
    "    \n",
    "    left = arr[indx:]\n",
    "    right = arr[:indx]\n",
    "    \n",
    "    if e < left[0]:\n",
    "        return print(\"The element is not in the array\")\n",
    "    elif e > right[-1]:\n",
    "        return print(\"The element is not in the array\")\n",
    "    elif e > left[-1]:\n",
    "        return bSearch(right,e,0,len(right)-1)\n",
    "    else:\n",
    "        try:\n",
    "            return bSearch(left,e,0,len(left)-1) + indx\n",
    "        except:\n",
    "            return None"
   ]
  },
  {
   "cell_type": "code",
   "execution_count": 177,
   "id": "8a9df50b",
   "metadata": {},
   "outputs": [],
   "source": [
    "a = np.array([7,8,9,10,12,1,2,3,5,6])"
   ]
  },
  {
   "cell_type": "code",
   "execution_count": 178,
   "id": "dc091f94",
   "metadata": {},
   "outputs": [
    {
     "data": {
      "text/plain": [
       "3"
      ]
     },
     "execution_count": 178,
     "metadata": {},
     "output_type": "execute_result"
    }
   ],
   "source": [
    "findElement(a,10)"
   ]
  },
  {
   "cell_type": "code",
   "execution_count": 179,
   "id": "2976b85d",
   "metadata": {},
   "outputs": [
    {
     "data": {
      "text/plain": [
       "0"
      ]
     },
     "execution_count": 179,
     "metadata": {},
     "output_type": "execute_result"
    }
   ],
   "source": [
    "findElement(a,7)"
   ]
  },
  {
   "cell_type": "code",
   "execution_count": 180,
   "id": "da8496e5",
   "metadata": {},
   "outputs": [
    {
     "data": {
      "text/plain": [
       "2"
      ]
     },
     "execution_count": 180,
     "metadata": {},
     "output_type": "execute_result"
    }
   ],
   "source": [
    "findElement(a,9)"
   ]
  },
  {
   "cell_type": "code",
   "execution_count": 181,
   "id": "3c03fd4a",
   "metadata": {},
   "outputs": [
    {
     "data": {
      "text/plain": [
       "5"
      ]
     },
     "execution_count": 181,
     "metadata": {},
     "output_type": "execute_result"
    }
   ],
   "source": [
    "findElement(a,1)"
   ]
  },
  {
   "cell_type": "code",
   "execution_count": 182,
   "id": "1c040199",
   "metadata": {},
   "outputs": [
    {
     "data": {
      "text/plain": [
       "7"
      ]
     },
     "execution_count": 182,
     "metadata": {},
     "output_type": "execute_result"
    }
   ],
   "source": [
    "findElement(a,3)"
   ]
  },
  {
   "cell_type": "code",
   "execution_count": 183,
   "id": "8c129d3e",
   "metadata": {},
   "outputs": [
    {
     "data": {
      "text/plain": [
       "9"
      ]
     },
     "execution_count": 183,
     "metadata": {},
     "output_type": "execute_result"
    }
   ],
   "source": [
    "findElement(a,6)"
   ]
  },
  {
   "cell_type": "code",
   "execution_count": 184,
   "id": "5c4c3261",
   "metadata": {},
   "outputs": [
    {
     "data": {
      "text/plain": [
       "6"
      ]
     },
     "execution_count": 184,
     "metadata": {},
     "output_type": "execute_result"
    }
   ],
   "source": [
    "a[9]"
   ]
  },
  {
   "cell_type": "code",
   "execution_count": 185,
   "id": "0ab4de6c",
   "metadata": {},
   "outputs": [
    {
     "name": "stdout",
     "output_type": "stream",
     "text": [
      "The element is not in the array\n"
     ]
    }
   ],
   "source": [
    "# Testing an element not in array smaller than all elements\n",
    "findElement(a,0)"
   ]
  },
  {
   "cell_type": "code",
   "execution_count": 186,
   "id": "69df01a2",
   "metadata": {},
   "outputs": [
    {
     "name": "stdout",
     "output_type": "stream",
     "text": [
      "The element is not in the array\n"
     ]
    }
   ],
   "source": [
    "# Testing an element not in rray greater than all elements\n",
    "findElement(a,662)"
   ]
  },
  {
   "cell_type": "code",
   "execution_count": 187,
   "id": "2ddbd686",
   "metadata": {},
   "outputs": [
    {
     "name": "stdout",
     "output_type": "stream",
     "text": [
      "The element is not in the array\n"
     ]
    }
   ],
   "source": [
    "# Testing a missing element within the left array\n",
    "findElement(a,4)"
   ]
  },
  {
   "cell_type": "code",
   "execution_count": 188,
   "id": "2550a39c",
   "metadata": {},
   "outputs": [
    {
     "name": "stdout",
     "output_type": "stream",
     "text": [
      "The element is not in the array\n"
     ]
    }
   ],
   "source": [
    "# Testing amissing element within the right array\n",
    "findElement(a,11)"
   ]
  },
  {
   "cell_type": "code",
   "execution_count": 189,
   "id": "103c4ab7",
   "metadata": {},
   "outputs": [
    {
     "ename": "ValueError",
     "evalue": "Cannot search element in an empty array",
     "output_type": "error",
     "traceback": [
      "\u001b[1;31m---------------------------------------------------------------------------\u001b[0m",
      "\u001b[1;31mValueError\u001b[0m                                Traceback (most recent call last)",
      "Cell \u001b[1;32mIn[189], line 4\u001b[0m\n\u001b[0;32m      2\u001b[0m b \u001b[38;5;241m=\u001b[39m []\n\u001b[0;32m      3\u001b[0m b \u001b[38;5;241m=\u001b[39m np\u001b[38;5;241m.\u001b[39marray(b)\n\u001b[1;32m----> 4\u001b[0m \u001b[43mfindElement\u001b[49m\u001b[43m(\u001b[49m\u001b[43mb\u001b[49m\u001b[43m,\u001b[49m\u001b[38;5;241;43m811\u001b[39;49m\u001b[43m)\u001b[49m\n",
      "Cell \u001b[1;32mIn[176], line 25\u001b[0m, in \u001b[0;36mfindElement\u001b[1;34m(arr, e)\u001b[0m\n\u001b[0;32m     22\u001b[0m         \u001b[38;5;28;01mreturn\u001b[39;00m bSearch(arr,e,mid\u001b[38;5;241m+\u001b[39m\u001b[38;5;241m1\u001b[39m,high)\n\u001b[0;32m     24\u001b[0m \u001b[38;5;28;01mif\u001b[39;00m \u001b[38;5;28mlen\u001b[39m(arr) \u001b[38;5;241m==\u001b[39m \u001b[38;5;241m0\u001b[39m:\n\u001b[1;32m---> 25\u001b[0m     \u001b[38;5;28;01mraise\u001b[39;00m \u001b[38;5;167;01mValueError\u001b[39;00m(\u001b[38;5;124m\"\u001b[39m\u001b[38;5;124mCannot search element in an empty array\u001b[39m\u001b[38;5;124m\"\u001b[39m)\n\u001b[0;32m     27\u001b[0m indx \u001b[38;5;241m=\u001b[39m findCutline(arr)\n\u001b[0;32m     29\u001b[0m \u001b[38;5;28;01mif\u001b[39;00m indx \u001b[38;5;241m==\u001b[39m \u001b[38;5;241m0\u001b[39m: \u001b[38;5;66;03m# The array was not rotated after all\u001b[39;00m\n",
      "\u001b[1;31mValueError\u001b[0m: Cannot search element in an empty array"
     ]
    }
   ],
   "source": [
    "# Testing ValueError if array is empty\n",
    "b = []\n",
    "b = np.array(b)\n",
    "findElement(b,811)"
   ]
  },
  {
   "cell_type": "markdown",
   "id": "cf8b4683",
   "metadata": {},
   "source": [
    "**(2)** Given an array of integers, implement a recursive Python program that finds a\n",
    "    valley element in O(logn) runtime. Submit both the Python code and a\n",
    "    screenshot of its results.<br>\n",
    "    \n",
    "*Notes:*\n",
    "1. In an array of integers, a valley element is the one which is less\n",
    "       than or equal to the adjacent integers.\n",
    "       For example, in array A = {5, 3, 20, 4, 1, 0}, a valley element is 3.\n",
    "2. The integer at index 0 is considered to be a valley point, if it is less\n",
    "       than the integer at index 1.\n",
    "       For example, in array A = {3, 5, 20, 4, 1, 0}, a valley element is 3.\n",
    "3. The integer at index n-1 is considered to be a valley point, if it is less\n",
    "       than the integer at index n-2.\n",
    "       For example, in array A = {3, 5, 20, 4, 1, 0}, another valley element is 0."
   ]
  },
  {
   "cell_type": "code",
   "execution_count": 211,
   "id": "f177f3e8",
   "metadata": {},
   "outputs": [],
   "source": [
    "# We need to find a valley not all the valleys\n",
    "# To find in O(log[n]) time we need to use binary search\n",
    "\n",
    "def findValleyAux(arr, low, high, n):\n",
    "\n",
    "    mid = (low + high) // 2\n",
    "\n",
    "    # Compare middle element with its neighbours (if neighbours exist)\n",
    "    if ((mid == 0 or arr[mid-1] > arr[mid]) and\n",
    "            (mid == n-1 or arr[mid+1] > arr[mid])):\n",
    "        return f\"At index '{mid}' valley element <{arr[mid]}> was found\"\n",
    "\n",
    "    # If middle element is not minima and its left neighbour is smaller than it, then left half must have a local minima.\n",
    "    elif (mid > 0 and arr[mid-1] < arr[mid]):\n",
    "        return findValleyAux(arr, low, (mid -1), n)\n",
    "\n",
    "    # If middle element is not minima and its right neighbour is smaller than it, then right half must have a local minima.\n",
    "    else:\n",
    "        return findValleyAux(arr, (mid + 1), high, n)\n",
    "\n",
    "\n",
    "def findValley(arr):\n",
    "    \"\"\"Input: An array of unique integers\n",
    "    Output: Returns the index where a valley element is found and its value\n",
    "    \n",
    "    Notes: 1- Assumes the array has no repeated elements\n",
    "           2- The functions finds a valley element (kind of a minimum value),\n",
    "           it does not guarantee finding a global minima (the deepest valley in the array)\"\"\"\n",
    "    \n",
    "    n = len(arr)\n",
    "    \n",
    "    if n == 0:\n",
    "        raise ValueError(\"Cannot search a valley in an empty list\")\n",
    "    elif n == 1:\n",
    "        raise ValueError(\"Cannot search a valley in a list of length equal to 1\")\n",
    "    elif len(set(arr)) != n:\n",
    "        raise ValueError(\"The array cannot contain repeated elements\")\n",
    "    else:    \n",
    "        return findValleyAux(arr, 0, n-1, n)"
   ]
  },
  {
   "cell_type": "code",
   "execution_count": 212,
   "id": "666f971c",
   "metadata": {},
   "outputs": [],
   "source": [
    "# Test cases\n",
    "c = np.array([5,4,1,2,3]) # The valley is exactly n the middle\n",
    "d = np.array([1,2,3,4,5]) # The valley is on index 0\n",
    "e = np.array([5,4,3,2,1]) # The valley is on index -1\n",
    "f = np.array([6,5,4,1,2,3]) # The valey is on the midddle of an even array, part 1\n",
    "g = np.array([6,5,1,2,3,4]) # The valey is on the midddle of an even array, part 2\n",
    "h = np.array([10,1,12,13,2,20]) # Multiple valleys in even array\n",
    "i = np.array([10,1,12,13,2,20,33]) # Multiple valleys in odd array\n",
    "j = np.array([5,3,20,4,1,0]) # Case provided in question\n",
    "k = np.array([3,5,20,4,1,0]) # Case provided in question"
   ]
  },
  {
   "cell_type": "code",
   "execution_count": 213,
   "id": "c5a39eb0",
   "metadata": {},
   "outputs": [
    {
     "data": {
      "text/plain": [
       "\"At index '2' valley element <1> was found\""
      ]
     },
     "execution_count": 213,
     "metadata": {},
     "output_type": "execute_result"
    }
   ],
   "source": [
    "findValley(c)"
   ]
  },
  {
   "cell_type": "code",
   "execution_count": 214,
   "id": "1ea4c1b5",
   "metadata": {},
   "outputs": [
    {
     "data": {
      "text/plain": [
       "\"At index '0' valley element <1> was found\""
      ]
     },
     "execution_count": 214,
     "metadata": {},
     "output_type": "execute_result"
    }
   ],
   "source": [
    "findValley(d)"
   ]
  },
  {
   "cell_type": "code",
   "execution_count": 215,
   "id": "1ce19585",
   "metadata": {},
   "outputs": [
    {
     "data": {
      "text/plain": [
       "\"At index '4' valley element <1> was found\""
      ]
     },
     "execution_count": 215,
     "metadata": {},
     "output_type": "execute_result"
    }
   ],
   "source": [
    "findValley(e)"
   ]
  },
  {
   "cell_type": "code",
   "execution_count": 216,
   "id": "9dc67b6f",
   "metadata": {},
   "outputs": [
    {
     "data": {
      "text/plain": [
       "\"At index '3' valley element <1> was found\""
      ]
     },
     "execution_count": 216,
     "metadata": {},
     "output_type": "execute_result"
    }
   ],
   "source": [
    "findValley(f)"
   ]
  },
  {
   "cell_type": "code",
   "execution_count": 217,
   "id": "c4360a62",
   "metadata": {},
   "outputs": [
    {
     "data": {
      "text/plain": [
       "\"At index '2' valley element <1> was found\""
      ]
     },
     "execution_count": 217,
     "metadata": {},
     "output_type": "execute_result"
    }
   ],
   "source": [
    "findValley(g)"
   ]
  },
  {
   "cell_type": "code",
   "execution_count": 218,
   "id": "5f0278a9",
   "metadata": {},
   "outputs": [
    {
     "data": {
      "text/plain": [
       "\"At index '1' valley element <1> was found\""
      ]
     },
     "execution_count": 218,
     "metadata": {},
     "output_type": "execute_result"
    }
   ],
   "source": [
    "findValley(h)"
   ]
  },
  {
   "cell_type": "code",
   "execution_count": 219,
   "id": "8af67fe2",
   "metadata": {},
   "outputs": [
    {
     "data": {
      "text/plain": [
       "\"At index '1' valley element <1> was found\""
      ]
     },
     "execution_count": 219,
     "metadata": {},
     "output_type": "execute_result"
    }
   ],
   "source": [
    "findValley(i)"
   ]
  },
  {
   "cell_type": "code",
   "execution_count": 220,
   "id": "68d38706",
   "metadata": {},
   "outputs": [
    {
     "data": {
      "text/plain": [
       "\"At index '1' valley element <3> was found\""
      ]
     },
     "execution_count": 220,
     "metadata": {},
     "output_type": "execute_result"
    }
   ],
   "source": [
    "findValley(j)"
   ]
  },
  {
   "cell_type": "code",
   "execution_count": 221,
   "id": "82d742c8",
   "metadata": {},
   "outputs": [
    {
     "data": {
      "text/plain": [
       "\"At index '0' valley element <3> was found\""
      ]
     },
     "execution_count": 221,
     "metadata": {},
     "output_type": "execute_result"
    }
   ],
   "source": [
    "findValley(k)"
   ]
  },
  {
   "cell_type": "code",
   "execution_count": 222,
   "id": "f0bdaa66",
   "metadata": {},
   "outputs": [],
   "source": [
    "# Cases to test errors\n",
    "l = np.array([])\n",
    "m = np.array([3])"
   ]
  },
  {
   "cell_type": "code",
   "execution_count": 223,
   "id": "a657fd14",
   "metadata": {},
   "outputs": [
    {
     "ename": "ValueError",
     "evalue": "Cannot search a valley in an empty list",
     "output_type": "error",
     "traceback": [
      "\u001b[1;31m---------------------------------------------------------------------------\u001b[0m",
      "\u001b[1;31mValueError\u001b[0m                                Traceback (most recent call last)",
      "Cell \u001b[1;32mIn[223], line 1\u001b[0m\n\u001b[1;32m----> 1\u001b[0m \u001b[43mfindValley\u001b[49m\u001b[43m(\u001b[49m\u001b[43ml\u001b[49m\u001b[43m)\u001b[49m\n",
      "Cell \u001b[1;32mIn[211], line 33\u001b[0m, in \u001b[0;36mfindValley\u001b[1;34m(arr)\u001b[0m\n\u001b[0;32m     30\u001b[0m n \u001b[38;5;241m=\u001b[39m \u001b[38;5;28mlen\u001b[39m(arr)\n\u001b[0;32m     32\u001b[0m \u001b[38;5;28;01mif\u001b[39;00m n \u001b[38;5;241m==\u001b[39m \u001b[38;5;241m0\u001b[39m:\n\u001b[1;32m---> 33\u001b[0m     \u001b[38;5;28;01mraise\u001b[39;00m \u001b[38;5;167;01mValueError\u001b[39;00m(\u001b[38;5;124m\"\u001b[39m\u001b[38;5;124mCannot search a valley in an empty list\u001b[39m\u001b[38;5;124m\"\u001b[39m)\n\u001b[0;32m     34\u001b[0m \u001b[38;5;28;01melif\u001b[39;00m n \u001b[38;5;241m==\u001b[39m \u001b[38;5;241m1\u001b[39m:\n\u001b[0;32m     35\u001b[0m     \u001b[38;5;28;01mraise\u001b[39;00m \u001b[38;5;167;01mValueError\u001b[39;00m(\u001b[38;5;124m\"\u001b[39m\u001b[38;5;124mCannot search a valley in a list of length equal to 1\u001b[39m\u001b[38;5;124m\"\u001b[39m)\n",
      "\u001b[1;31mValueError\u001b[0m: Cannot search a valley in an empty list"
     ]
    }
   ],
   "source": [
    "findValley(l)"
   ]
  },
  {
   "cell_type": "code",
   "execution_count": 224,
   "id": "ae3010c5",
   "metadata": {},
   "outputs": [
    {
     "ename": "ValueError",
     "evalue": "Cannot search a valley in a list of length equal to 1",
     "output_type": "error",
     "traceback": [
      "\u001b[1;31m---------------------------------------------------------------------------\u001b[0m",
      "\u001b[1;31mValueError\u001b[0m                                Traceback (most recent call last)",
      "Cell \u001b[1;32mIn[224], line 1\u001b[0m\n\u001b[1;32m----> 1\u001b[0m \u001b[43mfindValley\u001b[49m\u001b[43m(\u001b[49m\u001b[43mm\u001b[49m\u001b[43m)\u001b[49m\n",
      "Cell \u001b[1;32mIn[211], line 35\u001b[0m, in \u001b[0;36mfindValley\u001b[1;34m(arr)\u001b[0m\n\u001b[0;32m     33\u001b[0m     \u001b[38;5;28;01mraise\u001b[39;00m \u001b[38;5;167;01mValueError\u001b[39;00m(\u001b[38;5;124m\"\u001b[39m\u001b[38;5;124mCannot search a valley in an empty list\u001b[39m\u001b[38;5;124m\"\u001b[39m)\n\u001b[0;32m     34\u001b[0m \u001b[38;5;28;01melif\u001b[39;00m n \u001b[38;5;241m==\u001b[39m \u001b[38;5;241m1\u001b[39m:\n\u001b[1;32m---> 35\u001b[0m     \u001b[38;5;28;01mraise\u001b[39;00m \u001b[38;5;167;01mValueError\u001b[39;00m(\u001b[38;5;124m\"\u001b[39m\u001b[38;5;124mCannot search a valley in a list of length equal to 1\u001b[39m\u001b[38;5;124m\"\u001b[39m)\n\u001b[0;32m     36\u001b[0m \u001b[38;5;28;01melif\u001b[39;00m \u001b[38;5;28mlen\u001b[39m(\u001b[38;5;28mset\u001b[39m(arr)) \u001b[38;5;241m!=\u001b[39m n:\n\u001b[0;32m     37\u001b[0m     \u001b[38;5;28;01mraise\u001b[39;00m \u001b[38;5;167;01mValueError\u001b[39;00m(\u001b[38;5;124m\"\u001b[39m\u001b[38;5;124mThe array cannot contain repeated elements\u001b[39m\u001b[38;5;124m\"\u001b[39m)\n",
      "\u001b[1;31mValueError\u001b[0m: Cannot search a valley in a list of length equal to 1"
     ]
    }
   ],
   "source": [
    "findValley(m)"
   ]
  },
  {
   "cell_type": "code",
   "execution_count": 225,
   "id": "511feaa9",
   "metadata": {},
   "outputs": [],
   "source": [
    "# Cases not covered by the docstring\n",
    "r = np.array([5,4,1,1,1,2,3])\n",
    "s = np.array([1,1,2,3])\n",
    "t = np.array([9,7,6,5,5,5,5])"
   ]
  },
  {
   "cell_type": "code",
   "execution_count": 226,
   "id": "5e167236",
   "metadata": {},
   "outputs": [
    {
     "ename": "ValueError",
     "evalue": "The array cannot contain repeated elements",
     "output_type": "error",
     "traceback": [
      "\u001b[1;31m---------------------------------------------------------------------------\u001b[0m",
      "\u001b[1;31mValueError\u001b[0m                                Traceback (most recent call last)",
      "Cell \u001b[1;32mIn[226], line 1\u001b[0m\n\u001b[1;32m----> 1\u001b[0m \u001b[43mfindValley\u001b[49m\u001b[43m(\u001b[49m\u001b[43mr\u001b[49m\u001b[43m)\u001b[49m\n",
      "Cell \u001b[1;32mIn[211], line 37\u001b[0m, in \u001b[0;36mfindValley\u001b[1;34m(arr)\u001b[0m\n\u001b[0;32m     35\u001b[0m     \u001b[38;5;28;01mraise\u001b[39;00m \u001b[38;5;167;01mValueError\u001b[39;00m(\u001b[38;5;124m\"\u001b[39m\u001b[38;5;124mCannot search a valley in a list of length equal to 1\u001b[39m\u001b[38;5;124m\"\u001b[39m)\n\u001b[0;32m     36\u001b[0m \u001b[38;5;28;01melif\u001b[39;00m \u001b[38;5;28mlen\u001b[39m(\u001b[38;5;28mset\u001b[39m(arr)) \u001b[38;5;241m!=\u001b[39m n:\n\u001b[1;32m---> 37\u001b[0m     \u001b[38;5;28;01mraise\u001b[39;00m \u001b[38;5;167;01mValueError\u001b[39;00m(\u001b[38;5;124m\"\u001b[39m\u001b[38;5;124mThe array cannot contain repeated elements\u001b[39m\u001b[38;5;124m\"\u001b[39m)\n\u001b[0;32m     38\u001b[0m \u001b[38;5;28;01melse\u001b[39;00m:    \n\u001b[0;32m     39\u001b[0m     \u001b[38;5;28;01mreturn\u001b[39;00m findValleyAux(arr, \u001b[38;5;241m0\u001b[39m, n\u001b[38;5;241m-\u001b[39m\u001b[38;5;241m1\u001b[39m, n)\n",
      "\u001b[1;31mValueError\u001b[0m: The array cannot contain repeated elements"
     ]
    }
   ],
   "source": [
    "findValley(r)"
   ]
  },
  {
   "cell_type": "code",
   "execution_count": 227,
   "id": "e66b6132",
   "metadata": {},
   "outputs": [
    {
     "ename": "ValueError",
     "evalue": "The array cannot contain repeated elements",
     "output_type": "error",
     "traceback": [
      "\u001b[1;31m---------------------------------------------------------------------------\u001b[0m",
      "\u001b[1;31mValueError\u001b[0m                                Traceback (most recent call last)",
      "Cell \u001b[1;32mIn[227], line 1\u001b[0m\n\u001b[1;32m----> 1\u001b[0m \u001b[43mfindValley\u001b[49m\u001b[43m(\u001b[49m\u001b[43ms\u001b[49m\u001b[43m)\u001b[49m\n",
      "Cell \u001b[1;32mIn[211], line 37\u001b[0m, in \u001b[0;36mfindValley\u001b[1;34m(arr)\u001b[0m\n\u001b[0;32m     35\u001b[0m     \u001b[38;5;28;01mraise\u001b[39;00m \u001b[38;5;167;01mValueError\u001b[39;00m(\u001b[38;5;124m\"\u001b[39m\u001b[38;5;124mCannot search a valley in a list of length equal to 1\u001b[39m\u001b[38;5;124m\"\u001b[39m)\n\u001b[0;32m     36\u001b[0m \u001b[38;5;28;01melif\u001b[39;00m \u001b[38;5;28mlen\u001b[39m(\u001b[38;5;28mset\u001b[39m(arr)) \u001b[38;5;241m!=\u001b[39m n:\n\u001b[1;32m---> 37\u001b[0m     \u001b[38;5;28;01mraise\u001b[39;00m \u001b[38;5;167;01mValueError\u001b[39;00m(\u001b[38;5;124m\"\u001b[39m\u001b[38;5;124mThe array cannot contain repeated elements\u001b[39m\u001b[38;5;124m\"\u001b[39m)\n\u001b[0;32m     38\u001b[0m \u001b[38;5;28;01melse\u001b[39;00m:    \n\u001b[0;32m     39\u001b[0m     \u001b[38;5;28;01mreturn\u001b[39;00m findValleyAux(arr, \u001b[38;5;241m0\u001b[39m, n\u001b[38;5;241m-\u001b[39m\u001b[38;5;241m1\u001b[39m, n)\n",
      "\u001b[1;31mValueError\u001b[0m: The array cannot contain repeated elements"
     ]
    }
   ],
   "source": [
    "findValley(s)"
   ]
  },
  {
   "cell_type": "code",
   "execution_count": 228,
   "id": "63f2a111",
   "metadata": {},
   "outputs": [
    {
     "ename": "ValueError",
     "evalue": "The array cannot contain repeated elements",
     "output_type": "error",
     "traceback": [
      "\u001b[1;31m---------------------------------------------------------------------------\u001b[0m",
      "\u001b[1;31mValueError\u001b[0m                                Traceback (most recent call last)",
      "Cell \u001b[1;32mIn[228], line 1\u001b[0m\n\u001b[1;32m----> 1\u001b[0m \u001b[43mfindValley\u001b[49m\u001b[43m(\u001b[49m\u001b[43mt\u001b[49m\u001b[43m)\u001b[49m\n",
      "Cell \u001b[1;32mIn[211], line 37\u001b[0m, in \u001b[0;36mfindValley\u001b[1;34m(arr)\u001b[0m\n\u001b[0;32m     35\u001b[0m     \u001b[38;5;28;01mraise\u001b[39;00m \u001b[38;5;167;01mValueError\u001b[39;00m(\u001b[38;5;124m\"\u001b[39m\u001b[38;5;124mCannot search a valley in a list of length equal to 1\u001b[39m\u001b[38;5;124m\"\u001b[39m)\n\u001b[0;32m     36\u001b[0m \u001b[38;5;28;01melif\u001b[39;00m \u001b[38;5;28mlen\u001b[39m(\u001b[38;5;28mset\u001b[39m(arr)) \u001b[38;5;241m!=\u001b[39m n:\n\u001b[1;32m---> 37\u001b[0m     \u001b[38;5;28;01mraise\u001b[39;00m \u001b[38;5;167;01mValueError\u001b[39;00m(\u001b[38;5;124m\"\u001b[39m\u001b[38;5;124mThe array cannot contain repeated elements\u001b[39m\u001b[38;5;124m\"\u001b[39m)\n\u001b[0;32m     38\u001b[0m \u001b[38;5;28;01melse\u001b[39;00m:    \n\u001b[0;32m     39\u001b[0m     \u001b[38;5;28;01mreturn\u001b[39;00m findValleyAux(arr, \u001b[38;5;241m0\u001b[39m, n\u001b[38;5;241m-\u001b[39m\u001b[38;5;241m1\u001b[39m, n)\n",
      "\u001b[1;31mValueError\u001b[0m: The array cannot contain repeated elements"
     ]
    }
   ],
   "source": [
    "findValley(t)"
   ]
  },
  {
   "cell_type": "markdown",
   "id": "0138613a",
   "metadata": {},
   "source": [
    "## -- The homework ends here, disregard the content below --\n",
    "**-- I wrote the function below thinking the binary search needed to return\n",
    "either True/False. I did not used when I realized the requirement was different,\n",
    "however I want to keep it with this material for future use--**"
   ]
  },
  {
   "cell_type": "markdown",
   "id": "9213e6c0",
   "metadata": {},
   "source": [
    "**[Ric wrote]:** Now I am going to define an auxiliar function to de-rotate the array"
   ]
  },
  {
   "cell_type": "code",
   "execution_count": 33,
   "id": "87736828",
   "metadata": {},
   "outputs": [],
   "source": [
    "def derotate(arr):\n",
    "    \"\"\"Input: A rotated numpy array\n",
    "    Output: The de-rotated array\"\"\"\n",
    "    \n",
    "    indx = findCutline(arr)\n",
    "    \n",
    "    if indx == 0: # The array was not rotated\n",
    "        return arr\n",
    "    \n",
    "    array = np.concatenate((arr[indx:], arr[:indx]), axis=None)\n",
    "    \n",
    "    return array"
   ]
  },
  {
   "cell_type": "code",
   "execution_count": 34,
   "id": "ce44b251",
   "metadata": {},
   "outputs": [
    {
     "data": {
      "text/plain": [
       "array([ 1,  2,  3,  4,  5,  6,  7,  8,  9, 10])"
      ]
     },
     "execution_count": 34,
     "metadata": {},
     "output_type": "execute_result"
    }
   ],
   "source": [
    "derotate(a)"
   ]
  },
  {
   "cell_type": "code",
   "execution_count": 35,
   "id": "8d2c7cfc",
   "metadata": {},
   "outputs": [
    {
     "data": {
      "text/plain": [
       "array([1, 2, 3, 4, 5, 6, 7, 8])"
      ]
     },
     "execution_count": 35,
     "metadata": {},
     "output_type": "execute_result"
    }
   ],
   "source": [
    "b = np.array([1,2,3,4,5,6,7,8])\n",
    "derotate(b)"
   ]
  },
  {
   "cell_type": "code",
   "execution_count": 36,
   "id": "c49485b3",
   "metadata": {},
   "outputs": [
    {
     "data": {
      "text/plain": [
       "array([1, 2, 3, 4, 5, 6, 7, 8])"
      ]
     },
     "execution_count": 36,
     "metadata": {},
     "output_type": "execute_result"
    }
   ],
   "source": [
    "c = np.array([2,3,4,5,6,7,8,1])\n",
    "derotate(c)"
   ]
  },
  {
   "cell_type": "code",
   "execution_count": 37,
   "id": "ba014509",
   "metadata": {},
   "outputs": [
    {
     "data": {
      "text/plain": [
       "array([-5, -4, -3, -2, -1,  0,  1,  2,  3,  4,  5])"
      ]
     },
     "execution_count": 37,
     "metadata": {},
     "output_type": "execute_result"
    }
   ],
   "source": [
    "d = np.array([0,1,2,3,4,5,-5,-4,-3,-2,-1])\n",
    "derotate(d)"
   ]
  }
 ],
 "metadata": {
  "kernelspec": {
   "display_name": "Python 3 (ipykernel)",
   "language": "python",
   "name": "python3"
  },
  "language_info": {
   "codemirror_mode": {
    "name": "ipython",
    "version": 3
   },
   "file_extension": ".py",
   "mimetype": "text/x-python",
   "name": "python",
   "nbconvert_exporter": "python",
   "pygments_lexer": "ipython3",
   "version": "3.11.4"
  }
 },
 "nbformat": 4,
 "nbformat_minor": 5
}
