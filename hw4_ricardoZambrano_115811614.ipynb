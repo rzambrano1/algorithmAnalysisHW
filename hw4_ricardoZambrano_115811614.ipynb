{
 "cells": [
  {
   "cell_type": "markdown",
   "id": "3dc6c603",
   "metadata": {},
   "source": [
    "**(1)** Consider a case in which you run up an n-step staircase. You have the options of hopping either 1 step, 2 steps, or 3 steps at a time. Develop a Python function that computes how many possible ways you can run up the stairs.\n",
    "**Note:** Do not cache the previous results, i.e., use brute-force recursion."
   ]
  },
  {
   "cell_type": "code",
   "execution_count": 1,
   "id": "2adf3f1f",
   "metadata": {},
   "outputs": [],
   "source": [
    "def findHopppingPatterns(n:int)->int:\n",
    "    \"\"\"Input: number of steps in the stairs, an int\n",
    "    Output: Possible patter combinations to climb the stairs allowing climbs of either 1, 2, or 3 steps\"\"\"\n",
    "    if n < 1:\n",
    "        return 0\n",
    "    elif n == 1:\n",
    "        # There is only one combination possible to climb a stair with one step, by taking 1 step\n",
    "        # Base case 1\n",
    "        return 1 \n",
    "    elif n == 2:\n",
    "        # There are two possible  combinations to climb a stair with two steps, by taking 1 step two times\n",
    "        # and by taking a 2-step hop\n",
    "        # Base case 2\n",
    "        return 2\n",
    "    elif n == 3:\n",
    "        # There are four possible  combinations to climb a stair with three steps: \n",
    "        # 1) by taking 1 step three times\n",
    "        # 2) by taking a 2-step hop and then 1 step\n",
    "        # 3) by taking 1 step and then a 2-step hop\n",
    "        # 4) by taking a 3-step hop\n",
    "        # Base case 3\n",
    "        return 4\n",
    "    else:\n",
    "        # If n > 3 one can start the climb 3 ways: by taking either 1 step, 2-step hop, or 3-step hop\n",
    "        # We explore these three options by calling the function with -1, -2, and -3 steps\n",
    "        return findHopppingPatterns(n-1) + findHopppingPatterns(n-2) + findHopppingPatterns(n-3)"
   ]
  },
  {
   "cell_type": "code",
   "execution_count": 2,
   "id": "85fff61f",
   "metadata": {},
   "outputs": [
    {
     "data": {
      "text/plain": [
       "0"
      ]
     },
     "execution_count": 2,
     "metadata": {},
     "output_type": "execute_result"
    }
   ],
   "source": [
    "findHopppingPatterns(-1)"
   ]
  },
  {
   "cell_type": "code",
   "execution_count": 3,
   "id": "2d87d76a",
   "metadata": {},
   "outputs": [
    {
     "data": {
      "text/plain": [
       "0"
      ]
     },
     "execution_count": 3,
     "metadata": {},
     "output_type": "execute_result"
    }
   ],
   "source": [
    "findHopppingPatterns(0)"
   ]
  },
  {
   "cell_type": "code",
   "execution_count": 4,
   "id": "76d000e9",
   "metadata": {},
   "outputs": [
    {
     "data": {
      "text/plain": [
       "1"
      ]
     },
     "execution_count": 4,
     "metadata": {},
     "output_type": "execute_result"
    }
   ],
   "source": [
    "findHopppingPatterns(1)"
   ]
  },
  {
   "cell_type": "code",
   "execution_count": 5,
   "id": "15147721",
   "metadata": {},
   "outputs": [
    {
     "data": {
      "text/plain": [
       "2"
      ]
     },
     "execution_count": 5,
     "metadata": {},
     "output_type": "execute_result"
    }
   ],
   "source": [
    "findHopppingPatterns(2)"
   ]
  },
  {
   "cell_type": "code",
   "execution_count": 6,
   "id": "365a4d4b",
   "metadata": {},
   "outputs": [
    {
     "data": {
      "text/plain": [
       "4"
      ]
     },
     "execution_count": 6,
     "metadata": {},
     "output_type": "execute_result"
    }
   ],
   "source": [
    "findHopppingPatterns(3)"
   ]
  },
  {
   "cell_type": "code",
   "execution_count": 7,
   "id": "148d0336",
   "metadata": {},
   "outputs": [
    {
     "data": {
      "text/plain": [
       "7"
      ]
     },
     "execution_count": 7,
     "metadata": {},
     "output_type": "execute_result"
    }
   ],
   "source": [
    "findHopppingPatterns(4)"
   ]
  },
  {
   "cell_type": "code",
   "execution_count": 8,
   "id": "dc381a92",
   "metadata": {},
   "outputs": [
    {
     "data": {
      "text/plain": [
       "13"
      ]
     },
     "execution_count": 8,
     "metadata": {},
     "output_type": "execute_result"
    }
   ],
   "source": [
    "findHopppingPatterns(5)"
   ]
  },
  {
   "cell_type": "markdown",
   "id": "7074d787",
   "metadata": {},
   "source": [
    "**(2)** Implement a Python method that solves the previous problem by using a top-down memoization approach."
   ]
  },
  {
   "cell_type": "code",
   "execution_count": 9,
   "id": "f6ad4a39",
   "metadata": {},
   "outputs": [],
   "source": [
    "def dynamicHopppingPatterns(n:int, memo = None)->int:\n",
    "    \"\"\"Input: number of steps in the stairs, an int\n",
    "    Output: Possible patter combinations to climb the stairs allowing climbs of either 1, 2, or 3 steps\"\"\"\n",
    "    if memo == None:\n",
    "        memo = {}\n",
    "    \n",
    "    if n < 1:\n",
    "        return 0\n",
    "    elif n == 1:\n",
    "        # There is only one combination possible to climb a stair with one step, by taking 1 step\n",
    "        # Base case 1\n",
    "        return 1 \n",
    "    elif n == 2:\n",
    "        # There are two possible  combinations to climb a stair with two steps, by taking 1 step two times\n",
    "        # and by taking a 2-step hop\n",
    "        # Base case 2\n",
    "        return 2\n",
    "    elif n == 3:\n",
    "        # There are four possible  combinations to climb a stair with three steps: \n",
    "        # 1) by taking 1 step three times\n",
    "        # 2) by taking a 2-step hop and then 1 step\n",
    "        # 3) by taking 1 step and then a 2-step hop\n",
    "        # 4) by taking a 3-step hop\n",
    "        # Base case 3\n",
    "        return 4\n",
    "    else:\n",
    "        # First it attepmts to lookup the solution for n steps in memo\n",
    "        try:\n",
    "            return memo[n]\n",
    "        except KeyError:\n",
    "            # If it is not there (because it is the first time it is called with that value of n),\n",
    "            # an exception is raised and the normal recurrence is used, then the result is stored in memo\n",
    "            result = dynamicHopppingPatterns(n-1,memo) + dynamicHopppingPatterns(n-2,memo) + dynamicHopppingPatterns(n-3,memo)\n",
    "            memo[n] = result\n",
    "            return result "
   ]
  },
  {
   "cell_type": "code",
   "execution_count": 10,
   "id": "69db442b",
   "metadata": {},
   "outputs": [
    {
     "data": {
      "text/plain": [
       "0"
      ]
     },
     "execution_count": 10,
     "metadata": {},
     "output_type": "execute_result"
    }
   ],
   "source": [
    "dynamicHopppingPatterns(-1)"
   ]
  },
  {
   "cell_type": "code",
   "execution_count": 11,
   "id": "0c52fa27",
   "metadata": {},
   "outputs": [
    {
     "data": {
      "text/plain": [
       "0"
      ]
     },
     "execution_count": 11,
     "metadata": {},
     "output_type": "execute_result"
    }
   ],
   "source": [
    "dynamicHopppingPatterns(0)"
   ]
  },
  {
   "cell_type": "code",
   "execution_count": 12,
   "id": "d3ff224a",
   "metadata": {},
   "outputs": [
    {
     "data": {
      "text/plain": [
       "1"
      ]
     },
     "execution_count": 12,
     "metadata": {},
     "output_type": "execute_result"
    }
   ],
   "source": [
    "dynamicHopppingPatterns(1)"
   ]
  },
  {
   "cell_type": "code",
   "execution_count": 13,
   "id": "665c7d2e",
   "metadata": {},
   "outputs": [
    {
     "data": {
      "text/plain": [
       "2"
      ]
     },
     "execution_count": 13,
     "metadata": {},
     "output_type": "execute_result"
    }
   ],
   "source": [
    "dynamicHopppingPatterns(2)"
   ]
  },
  {
   "cell_type": "code",
   "execution_count": 14,
   "id": "65a9fb20",
   "metadata": {},
   "outputs": [
    {
     "data": {
      "text/plain": [
       "4"
      ]
     },
     "execution_count": 14,
     "metadata": {},
     "output_type": "execute_result"
    }
   ],
   "source": [
    "dynamicHopppingPatterns(3)"
   ]
  },
  {
   "cell_type": "code",
   "execution_count": 15,
   "id": "9253400d",
   "metadata": {},
   "outputs": [
    {
     "data": {
      "text/plain": [
       "7"
      ]
     },
     "execution_count": 15,
     "metadata": {},
     "output_type": "execute_result"
    }
   ],
   "source": [
    "dynamicHopppingPatterns(4)"
   ]
  },
  {
   "cell_type": "code",
   "execution_count": 16,
   "id": "8ba45b5a",
   "metadata": {},
   "outputs": [
    {
     "data": {
      "text/plain": [
       "13"
      ]
     },
     "execution_count": 16,
     "metadata": {},
     "output_type": "execute_result"
    }
   ],
   "source": [
    "dynamicHopppingPatterns(5)"
   ]
  },
  {
   "cell_type": "code",
   "execution_count": 17,
   "id": "34df056e",
   "metadata": {},
   "outputs": [
    {
     "name": "stdout",
     "output_type": "stream",
     "text": [
      "Brute force recursion runtime:  8.692464351654053\n",
      "181997601\n",
      "Dynamic programing runtime:  0.0\n",
      "181997601\n"
     ]
    },
    {
     "data": {
      "text/plain": [
       "True"
      ]
     },
     "execution_count": 17,
     "metadata": {},
     "output_type": "execute_result"
    }
   ],
   "source": [
    "import time\n",
    "\n",
    "t0 = time.time()\n",
    "res1 = findHopppingPatterns(32)\n",
    "tf = time.time() - t0\n",
    "print(\"Brute force recursion runtime: \",tf)\n",
    "print(res1)\n",
    "\n",
    "t0 = time.time()\n",
    "res2 = dynamicHopppingPatterns(32)\n",
    "tf = time.time() - t0\n",
    "print(\"Dynamic programing runtime: \",tf)\n",
    "print(res2)\n",
    "\n",
    "res1 == res2"
   ]
  },
  {
   "cell_type": "code",
   "execution_count": 18,
   "id": "4bf50dba",
   "metadata": {},
   "outputs": [
    {
     "name": "stdout",
     "output_type": "stream",
     "text": [
      "Dynamic programing runtime:  0.0\n",
      "10562230626642\n"
     ]
    }
   ],
   "source": [
    "t0 = time.time()\n",
    "res2 = dynamicHopppingPatterns(50)\n",
    "tf = time.time() - t0\n",
    "print(\"Dynamic programing runtime: \",tf)\n",
    "print(res2)"
   ]
  },
  {
   "cell_type": "markdown",
   "id": "9be763d1",
   "metadata": {},
   "source": [
    "**(3)** Given an array of distinct integers, implement a recursive function in Python that returns the first element in the array where its index is equal to its value."
   ]
  },
  {
   "cell_type": "code",
   "execution_count": 19,
   "id": "54d71452",
   "metadata": {},
   "outputs": [],
   "source": [
    "import numpy as np"
   ]
  },
  {
   "cell_type": "code",
   "execution_count": 20,
   "id": "3829cb12",
   "metadata": {},
   "outputs": [],
   "source": [
    "def recursiveIndexEqElemVal(arr,indx=0):\n",
    "    \"\"\"Input: a numpy array with integers\n",
    "    Output: index of the first element whose value is equal to the index. In none is found it returns -1\"\"\"\n",
    "\n",
    "    if len(arr) == 0:\n",
    "        return -1\n",
    "    elif arr[0]==indx:\n",
    "        return indx\n",
    "    else:\n",
    "        indx += 1\n",
    "        return recursiveIndexEqElemVal(arr[1:],indx)"
   ]
  },
  {
   "cell_type": "code",
   "execution_count": 21,
   "id": "ea4ddcbf",
   "metadata": {},
   "outputs": [
    {
     "data": {
      "text/plain": [
       "-1"
      ]
     },
     "execution_count": 21,
     "metadata": {},
     "output_type": "execute_result"
    }
   ],
   "source": [
    "arr = np.array([])\n",
    "recursiveIndexEqElemVal(arr)"
   ]
  },
  {
   "cell_type": "code",
   "execution_count": 22,
   "id": "7d7aa8a4",
   "metadata": {},
   "outputs": [
    {
     "data": {
      "text/plain": [
       "0"
      ]
     },
     "execution_count": 22,
     "metadata": {},
     "output_type": "execute_result"
    }
   ],
   "source": [
    "arr = np.array([0])\n",
    "recursiveIndexEqElemVal(arr)"
   ]
  },
  {
   "cell_type": "code",
   "execution_count": 23,
   "id": "be1d0383",
   "metadata": {},
   "outputs": [
    {
     "data": {
      "text/plain": [
       "-1"
      ]
     },
     "execution_count": 23,
     "metadata": {},
     "output_type": "execute_result"
    }
   ],
   "source": [
    "arr = np.array([1])\n",
    "recursiveIndexEqElemVal(arr)"
   ]
  },
  {
   "cell_type": "code",
   "execution_count": 24,
   "id": "5d9e5aee",
   "metadata": {},
   "outputs": [
    {
     "data": {
      "text/plain": [
       "1"
      ]
     },
     "execution_count": 24,
     "metadata": {},
     "output_type": "execute_result"
    }
   ],
   "source": [
    "arr = np.array([2,1])\n",
    "recursiveIndexEqElemVal(arr)"
   ]
  },
  {
   "cell_type": "code",
   "execution_count": 25,
   "id": "a587e9f6",
   "metadata": {},
   "outputs": [
    {
     "data": {
      "text/plain": [
       "6"
      ]
     },
     "execution_count": 25,
     "metadata": {},
     "output_type": "execute_result"
    }
   ],
   "source": [
    "arr = np.array([23,54,67,88,123,1,6,2,3,4,5,72])\n",
    "recursiveIndexEqElemVal(arr)"
   ]
  },
  {
   "cell_type": "code",
   "execution_count": 26,
   "id": "6ac13726",
   "metadata": {},
   "outputs": [
    {
     "data": {
      "text/plain": [
       "-1"
      ]
     },
     "execution_count": 26,
     "metadata": {},
     "output_type": "execute_result"
    }
   ],
   "source": [
    "arr = np.array([23,54,67,88,123,1,66,2,3,4,5,72])\n",
    "recursiveIndexEqElemVal(arr)"
   ]
  },
  {
   "cell_type": "code",
   "execution_count": 27,
   "id": "99be7f8a",
   "metadata": {},
   "outputs": [
    {
     "data": {
      "text/plain": [
       "11"
      ]
     },
     "execution_count": 27,
     "metadata": {},
     "output_type": "execute_result"
    }
   ],
   "source": [
    "arr = np.array([23,54,67,88,123,1,66,2,3,4,5,11])\n",
    "recursiveIndexEqElemVal(arr)"
   ]
  },
  {
   "cell_type": "markdown",
   "id": "376060a1",
   "metadata": {},
   "source": [
    "**(4)** Given an array of unique integers, develop a recursive function in Python that returns all possible subsets."
   ]
  },
  {
   "cell_type": "code",
   "execution_count": 28,
   "id": "e4c9d888",
   "metadata": {},
   "outputs": [],
   "source": [
    "def findSubsetsRecursive(ls):\n",
    "    \"\"\"Input: a list with unique integers\n",
    "    Output: all subsets\"\"\"\n",
    "    \n",
    "    if len(ls) == 0:\n",
    "        return [[]]\n",
    "    else:\n",
    "        x = findSubsetsRecursive(ls[1:])\n",
    "        return x + [[ls[0]] + subset for subset in x]"
   ]
  },
  {
   "cell_type": "code",
   "execution_count": 29,
   "id": "79c0680c",
   "metadata": {},
   "outputs": [],
   "source": [
    "def findSubsets(arr):\n",
    "    \"\"\"Input: a numpy array with unique integers\n",
    "    Output: all subsets\"\"\"\n",
    "    assert len(arr) == len(set(arr)), \"Integers in the array must be unique\"\n",
    "    \n",
    "    arrToList = list(arr)\n",
    "    \n",
    "    return findSubsetsRecursive(arrToList)"
   ]
  },
  {
   "cell_type": "code",
   "execution_count": 30,
   "id": "65cc49fd",
   "metadata": {},
   "outputs": [
    {
     "data": {
      "text/plain": [
       "[[], [3], [2], [2, 3], [1], [1, 3], [1, 2], [1, 2, 3]]"
      ]
     },
     "execution_count": 30,
     "metadata": {},
     "output_type": "execute_result"
    }
   ],
   "source": [
    "arr1 = np.array([23,54,67,88,123,1,66,2,3,4,5,11])\n",
    "arr = np.array([1,2,3])\n",
    "findSubsets(arr)"
   ]
  },
  {
   "cell_type": "markdown",
   "id": "8ccc032f",
   "metadata": {},
   "source": [
    "**(5)** Given a string of unique characters, develop a recursive function in Python that returns all possible permutations of that string."
   ]
  },
  {
   "cell_type": "code",
   "execution_count": 31,
   "id": "d508f627",
   "metadata": {},
   "outputs": [],
   "source": [
    "def permuteString(s):\n",
    "    \"\"\"Inmput: a string\n",
    "    Output: permutations of letters in string\"\"\"\n",
    "    \n",
    "    if len(s) == 1:\n",
    "        return [s]\n",
    "    elif len(s) == 2:\n",
    "        left = \"\".join([s[0],s[1]])\n",
    "        right = \"\".join([s[1],s[0]])\n",
    "        return [left,right]\n",
    "    else:\n",
    "        perm = []\n",
    "        for letter in s:\n",
    "            currLetter = letter\n",
    "            remaining = list(s)\n",
    "            remaining.remove(letter)\n",
    "            subString = \"\".join(remaining)\n",
    "            x = permuteString(subString)\n",
    "            found = [(currLetter+result) for result in x]\n",
    "            for item in found:\n",
    "                perm.append(item)\n",
    "        return perm"
   ]
  },
  {
   "cell_type": "code",
   "execution_count": 32,
   "id": "e275bb37",
   "metadata": {},
   "outputs": [
    {
     "name": "stdout",
     "output_type": "stream",
     "text": [
      "6\n",
      "['abc', 'acb', 'bac', 'bca', 'cab', 'cba']\n"
     ]
    }
   ],
   "source": [
    "test = permuteString(\"abc\")\n",
    "print(len(test))\n",
    "print(test)"
   ]
  },
  {
   "cell_type": "code",
   "execution_count": 33,
   "id": "97f7aae5",
   "metadata": {},
   "outputs": [
    {
     "name": "stdout",
     "output_type": "stream",
     "text": [
      "24\n",
      "['abcd', 'abdc', 'acbd', 'acdb', 'adbc', 'adcb', 'bacd', 'badc', 'bcad', 'bcda', 'bdac', 'bdca', 'cabd', 'cadb', 'cbad', 'cbda', 'cdab', 'cdba', 'dabc', 'dacb', 'dbac', 'dbca', 'dcab', 'dcba']\n"
     ]
    }
   ],
   "source": [
    "test1 = permuteString(\"abcd\")\n",
    "print(len(test1))\n",
    "print(test1)"
   ]
  },
  {
   "cell_type": "code",
   "execution_count": 34,
   "id": "f8379b84",
   "metadata": {},
   "outputs": [
    {
     "data": {
      "text/plain": [
       "['ab', 'ba']"
      ]
     },
     "execution_count": 34,
     "metadata": {},
     "output_type": "execute_result"
    }
   ],
   "source": [
    "permuteString(\"ab\")"
   ]
  },
  {
   "cell_type": "code",
   "execution_count": 35,
   "id": "59a5fc03",
   "metadata": {},
   "outputs": [
    {
     "data": {
      "text/plain": [
       "['a']"
      ]
     },
     "execution_count": 35,
     "metadata": {},
     "output_type": "execute_result"
    }
   ],
   "source": [
    "permuteString(\"a\")"
   ]
  },
  {
   "cell_type": "code",
   "execution_count": 36,
   "id": "cf5bea68",
   "metadata": {},
   "outputs": [
    {
     "name": "stdout",
     "output_type": "stream",
     "text": [
      "120\n"
     ]
    }
   ],
   "source": [
    "test2 = permuteString(\"abcde\")\n",
    "print(len(test2))"
   ]
  },
  {
   "cell_type": "code",
   "execution_count": null,
   "id": "269f1280",
   "metadata": {},
   "outputs": [],
   "source": []
  }
 ],
 "metadata": {
  "kernelspec": {
   "display_name": "Python 3 (ipykernel)",
   "language": "python",
   "name": "python3"
  },
  "language_info": {
   "codemirror_mode": {
    "name": "ipython",
    "version": 3
   },
   "file_extension": ".py",
   "mimetype": "text/x-python",
   "name": "python",
   "nbconvert_exporter": "python",
   "pygments_lexer": "ipython3",
   "version": "3.11.4"
  }
 },
 "nbformat": 4,
 "nbformat_minor": 5
}
